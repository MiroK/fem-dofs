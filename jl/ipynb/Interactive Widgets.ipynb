{
 "cells": [
  {
   "cell_type": "markdown",
   "metadata": {},
   "source": [
    "# Interactive Widgets in IJulia"
   ]
  },
  {
   "cell_type": "markdown",
   "metadata": {},
   "source": [
    "IPython 2.0 introduced interactive widgets, which are basically:\n",
    "\n",
    "* Javascript widgets (sliders, buttons, etcetera)\n",
    "* A communications protocol for the widgets to talk to the kernel\n",
    "* A Python interface to create and manipulate these.\n",
    "\n",
    "Thanks to fantastic work by a Google Summer of Code student, [Shashi Gowda](https://github.com/shashi/), the same features are accessible from a Julia interface."
   ]
  },
  {
   "cell_type": "code",
   "execution_count": 1,
   "metadata": {
    "collapsed": false
   },
   "outputs": [
    {
     "ename": "LoadError",
     "evalue": "LoadError: ArgumentError: Interact not found in path\nwhile loading In[1], in expression starting on line 1",
     "output_type": "error",
     "traceback": [
      "LoadError: ArgumentError: Interact not found in path\nwhile loading In[1], in expression starting on line 1",
      "",
      " in require at /usr/local/Cellar/julia/0.4.2/lib/julia/sys.dylib"
     ]
    }
   ],
   "source": [
    "using Interact"
   ]
  },
  {
   "cell_type": "code",
   "execution_count": 4,
   "metadata": {
    "collapsed": false
   },
   "outputs": [
    {
     "data": {
      "text/html": [],
      "text/plain": [
       "Slider{Int64}([Input{Int64}] 50,\"n\",50,1:100)"
      ]
     },
     "metadata": {},
     "output_type": "display_data"
    },
    {
     "data": {
      "text/plain": [
       "50x50 Array{Float64,2}:\n",
       " 0.192494    0.774645   0.714897   …  0.984115   0.0707199   0.942359\n",
       " 0.950946    0.249466   0.238906      0.671312   0.57862     0.113082\n",
       " 0.851582    0.281471   0.14392       0.405506   0.288532    0.420758\n",
       " 0.845958    0.194335   0.402048      0.446765   0.196053    0.344246\n",
       " 0.608542    0.690499   0.688326      0.521547   0.102618    0.657869\n",
       " 0.181412    0.240683   0.0770475  …  0.124834   0.768235    0.408781\n",
       " 0.98233     0.801939   0.518456      0.727497   0.882926    0.747009\n",
       " 0.00136416  0.340667   0.687213      0.0730358  0.699973    0.397874\n",
       " 0.357312    0.661793   0.599453      0.820494   0.501274    0.788849\n",
       " 0.995401    0.0888594  0.883913      0.0513891  0.27983     0.866252\n",
       " 0.078382    0.176323   0.65448    …  0.356303   0.608476    0.813071\n",
       " 0.741017    0.584311   0.699103      0.512682   0.16386     0.184963\n",
       " 0.993572    0.843067   0.550002      0.468864   0.108314    0.844087\n",
       " ⋮                                 ⋱                                 \n",
       " 0.221652    0.573635   0.193983      0.154797   0.306801    0.400314\n",
       " 0.483418    0.702649   0.0160589     0.28666    0.925661    0.126645\n",
       " 0.58396     0.348778   0.0670973  …  0.354267   0.167593    0.601047\n",
       " 0.171797    0.162173   0.271917      0.560323   0.600597    0.107658\n",
       " 0.608575    0.989727   0.835932      0.896654   0.97928     0.685471\n",
       " 0.362764    0.830358   0.244718      0.528363   0.148544    0.74542 \n",
       " 0.283505    0.449135   0.0646681     0.903118   0.455615    0.349448\n",
       " 0.0410569   0.13864    0.96945    …  0.834814   0.00158348  0.741427\n",
       " 0.072487    0.119183   0.461543      0.750576   0.243763    0.107016\n",
       " 0.877192    0.557616   0.0429746     0.45989    0.305513    0.427724\n",
       " 0.264894    0.194532   0.965758      0.894081   0.483755    0.972757\n",
       " 0.474844    0.234007   0.367691      0.657161   0.631501    0.368779"
      ]
     },
     "execution_count": 4,
     "metadata": {
      "comm_id": "49732108-a508-4d40-9649-30b4b6a3dbfe",
      "reactive": true
     },
     "output_type": "execute_result"
    }
   ],
   "source": [
    "@manipulate for n in 1:100\n",
    "    rand(n,n)\n",
    "end"
   ]
  },
  {
   "cell_type": "code",
   "execution_count": 5,
   "metadata": {
    "collapsed": false
   },
   "outputs": [
    {
     "data": {
      "text/html": [],
      "text/plain": [
       "Slider{Float64}([Input{Float64}] 0.5,\"r\",0.5,0.0:0.1:1.0)"
      ]
     },
     "metadata": {},
     "output_type": "display_data"
    },
    {
     "data": {
      "text/html": [],
      "text/plain": [
       "Slider{Float64}([Input{Float64}] 0.5,\"g\",0.5,0.0:0.1:1.0)"
      ]
     },
     "metadata": {},
     "output_type": "display_data"
    },
    {
     "data": {
      "text/html": [],
      "text/plain": [
       "Slider{Float64}([Input{Float64}] 0.5,\"b\",0.5,0.0:0.1:1.0)"
      ]
     },
     "metadata": {},
     "output_type": "display_data"
    },
    {
     "data": {
      "text/html": [],
      "text/plain": [
       "Slider{Int64}([Input{Int64}] 50,\"n\",50,1:100)"
      ]
     },
     "metadata": {},
     "output_type": "display_data"
    },
    {
     "data": {
      "image/svg+xml": [
       "<?xml version=\"1.0\" encoding=\"UTF-8\"?>\n",
       "<!DOCTYPE svg PUBLIC \"-//W3C//DTD SVG 1.1//EN\"\n",
       " \"http://www.w3.org/Graphics/SVG/1.1/DTD/svg11.dtd\">\n",
       "<svg xmlns=\"http://www.w3.org/2000/svg\" version=\"1.1\"\n",
       "     width=\"250.0mm\" height=\"25.0mm\"\n",
       "     shape-rendering=\"crispEdges\">\n",
       "<rect x=\"0.0mm\" y=\"0.0mm\"\n",
       "      width=\"4.0mm\" height=\"25.0mm\"\n",
       "      fill=\"#000000\" stroke=\"none\" />\n",
       "<rect x=\"5.0mm\" y=\"0.0mm\"\n",
       "      width=\"4.0mm\" height=\"25.0mm\"\n",
       "      fill=\"#030303\" stroke=\"none\" />\n",
       "<rect x=\"10.0mm\" y=\"0.0mm\"\n",
       "      width=\"4.0mm\" height=\"25.0mm\"\n",
       "      fill=\"#050505\" stroke=\"none\" />\n",
       "<rect x=\"15.0mm\" y=\"0.0mm\"\n",
       "      width=\"4.0mm\" height=\"25.0mm\"\n",
       "      fill=\"#080808\" stroke=\"none\" />\n",
       "<rect x=\"20.0mm\" y=\"0.0mm\"\n",
       "      width=\"4.0mm\" height=\"25.0mm\"\n",
       "      fill=\"#0A0A0A\" stroke=\"none\" />\n",
       "<rect x=\"25.0mm\" y=\"0.0mm\"\n",
       "      width=\"4.0mm\" height=\"25.0mm\"\n",
       "      fill=\"#0D0D0D\" stroke=\"none\" />\n",
       "<rect x=\"30.0mm\" y=\"0.0mm\"\n",
       "      width=\"4.0mm\" height=\"25.0mm\"\n",
       "      fill=\"#101010\" stroke=\"none\" />\n",
       "<rect x=\"35.0mm\" y=\"0.0mm\"\n",
       "      width=\"4.0mm\" height=\"25.0mm\"\n",
       "      fill=\"#121212\" stroke=\"none\" />\n",
       "<rect x=\"40.0mm\" y=\"0.0mm\"\n",
       "      width=\"4.0mm\" height=\"25.0mm\"\n",
       "      fill=\"#151515\" stroke=\"none\" />\n",
       "<rect x=\"45.0mm\" y=\"0.0mm\"\n",
       "      width=\"4.0mm\" height=\"25.0mm\"\n",
       "      fill=\"#171717\" stroke=\"none\" />\n",
       "<rect x=\"50.0mm\" y=\"0.0mm\"\n",
       "      width=\"4.0mm\" height=\"25.0mm\"\n",
       "      fill=\"#1A1A1A\" stroke=\"none\" />\n",
       "<rect x=\"55.0mm\" y=\"0.0mm\"\n",
       "      width=\"4.0mm\" height=\"25.0mm\"\n",
       "      fill=\"#1D1D1D\" stroke=\"none\" />\n",
       "<rect x=\"60.0mm\" y=\"0.0mm\"\n",
       "      width=\"4.0mm\" height=\"25.0mm\"\n",
       "      fill=\"#1F1F1F\" stroke=\"none\" />\n",
       "<rect x=\"65.0mm\" y=\"0.0mm\"\n",
       "      width=\"4.0mm\" height=\"25.0mm\"\n",
       "      fill=\"#222222\" stroke=\"none\" />\n",
       "<rect x=\"70.0mm\" y=\"0.0mm\"\n",
       "      width=\"4.0mm\" height=\"25.0mm\"\n",
       "      fill=\"#242424\" stroke=\"none\" />\n",
       "<rect x=\"75.0mm\" y=\"0.0mm\"\n",
       "      width=\"4.0mm\" height=\"25.0mm\"\n",
       "      fill=\"#272727\" stroke=\"none\" />\n",
       "<rect x=\"80.0mm\" y=\"0.0mm\"\n",
       "      width=\"4.0mm\" height=\"25.0mm\"\n",
       "      fill=\"#2A2A2A\" stroke=\"none\" />\n",
       "<rect x=\"85.0mm\" y=\"0.0mm\"\n",
       "      width=\"4.0mm\" height=\"25.0mm\"\n",
       "      fill=\"#2C2C2C\" stroke=\"none\" />\n",
       "<rect x=\"90.0mm\" y=\"0.0mm\"\n",
       "      width=\"4.0mm\" height=\"25.0mm\"\n",
       "      fill=\"#2F2F2F\" stroke=\"none\" />\n",
       "<rect x=\"95.0mm\" y=\"0.0mm\"\n",
       "      width=\"4.0mm\" height=\"25.0mm\"\n",
       "      fill=\"#313131\" stroke=\"none\" />\n",
       "<rect x=\"100.0mm\" y=\"0.0mm\"\n",
       "      width=\"4.0mm\" height=\"25.0mm\"\n",
       "      fill=\"#343434\" stroke=\"none\" />\n",
       "<rect x=\"105.0mm\" y=\"0.0mm\"\n",
       "      width=\"4.0mm\" height=\"25.0mm\"\n",
       "      fill=\"#373737\" stroke=\"none\" />\n",
       "<rect x=\"110.0mm\" y=\"0.0mm\"\n",
       "      width=\"4.0mm\" height=\"25.0mm\"\n",
       "      fill=\"#393939\" stroke=\"none\" />\n",
       "<rect x=\"115.0mm\" y=\"0.0mm\"\n",
       "      width=\"4.0mm\" height=\"25.0mm\"\n",
       "      fill=\"#3C3C3C\" stroke=\"none\" />\n",
       "<rect x=\"120.0mm\" y=\"0.0mm\"\n",
       "      width=\"4.0mm\" height=\"25.0mm\"\n",
       "      fill=\"#3E3E3E\" stroke=\"none\" />\n",
       "<rect x=\"125.0mm\" y=\"0.0mm\"\n",
       "      width=\"4.0mm\" height=\"25.0mm\"\n",
       "      fill=\"#414141\" stroke=\"none\" />\n",
       "<rect x=\"130.0mm\" y=\"0.0mm\"\n",
       "      width=\"4.0mm\" height=\"25.0mm\"\n",
       "      fill=\"#444444\" stroke=\"none\" />\n",
       "<rect x=\"135.0mm\" y=\"0.0mm\"\n",
       "      width=\"4.0mm\" height=\"25.0mm\"\n",
       "      fill=\"#464646\" stroke=\"none\" />\n",
       "<rect x=\"140.0mm\" y=\"0.0mm\"\n",
       "      width=\"4.0mm\" height=\"25.0mm\"\n",
       "      fill=\"#494949\" stroke=\"none\" />\n",
       "<rect x=\"145.0mm\" y=\"0.0mm\"\n",
       "      width=\"4.0mm\" height=\"25.0mm\"\n",
       "      fill=\"#4B4B4B\" stroke=\"none\" />\n",
       "<rect x=\"150.0mm\" y=\"0.0mm\"\n",
       "      width=\"4.0mm\" height=\"25.0mm\"\n",
       "      fill=\"#4E4E4E\" stroke=\"none\" />\n",
       "<rect x=\"155.0mm\" y=\"0.0mm\"\n",
       "      width=\"4.0mm\" height=\"25.0mm\"\n",
       "      fill=\"#515151\" stroke=\"none\" />\n",
       "<rect x=\"160.0mm\" y=\"0.0mm\"\n",
       "      width=\"4.0mm\" height=\"25.0mm\"\n",
       "      fill=\"#535353\" stroke=\"none\" />\n",
       "<rect x=\"165.0mm\" y=\"0.0mm\"\n",
       "      width=\"4.0mm\" height=\"25.0mm\"\n",
       "      fill=\"#565656\" stroke=\"none\" />\n",
       "<rect x=\"170.0mm\" y=\"0.0mm\"\n",
       "      width=\"4.0mm\" height=\"25.0mm\"\n",
       "      fill=\"#585858\" stroke=\"none\" />\n",
       "<rect x=\"175.0mm\" y=\"0.0mm\"\n",
       "      width=\"4.0mm\" height=\"25.0mm\"\n",
       "      fill=\"#5B5B5B\" stroke=\"none\" />\n",
       "<rect x=\"180.0mm\" y=\"0.0mm\"\n",
       "      width=\"4.0mm\" height=\"25.0mm\"\n",
       "      fill=\"#5E5E5E\" stroke=\"none\" />\n",
       "<rect x=\"185.0mm\" y=\"0.0mm\"\n",
       "      width=\"4.0mm\" height=\"25.0mm\"\n",
       "      fill=\"#606060\" stroke=\"none\" />\n",
       "<rect x=\"190.0mm\" y=\"0.0mm\"\n",
       "      width=\"4.0mm\" height=\"25.0mm\"\n",
       "      fill=\"#636363\" stroke=\"none\" />\n",
       "<rect x=\"195.0mm\" y=\"0.0mm\"\n",
       "      width=\"4.0mm\" height=\"25.0mm\"\n",
       "      fill=\"#656565\" stroke=\"none\" />\n",
       "<rect x=\"200.0mm\" y=\"0.0mm\"\n",
       "      width=\"4.0mm\" height=\"25.0mm\"\n",
       "      fill=\"#686868\" stroke=\"none\" />\n",
       "<rect x=\"205.0mm\" y=\"0.0mm\"\n",
       "      width=\"4.0mm\" height=\"25.0mm\"\n",
       "      fill=\"#6B6B6B\" stroke=\"none\" />\n",
       "<rect x=\"210.0mm\" y=\"0.0mm\"\n",
       "      width=\"4.0mm\" height=\"25.0mm\"\n",
       "      fill=\"#6D6D6D\" stroke=\"none\" />\n",
       "<rect x=\"215.0mm\" y=\"0.0mm\"\n",
       "      width=\"4.0mm\" height=\"25.0mm\"\n",
       "      fill=\"#707070\" stroke=\"none\" />\n",
       "<rect x=\"220.0mm\" y=\"0.0mm\"\n",
       "      width=\"4.0mm\" height=\"25.0mm\"\n",
       "      fill=\"#727272\" stroke=\"none\" />\n",
       "<rect x=\"225.0mm\" y=\"0.0mm\"\n",
       "      width=\"4.0mm\" height=\"25.0mm\"\n",
       "      fill=\"#757575\" stroke=\"none\" />\n",
       "<rect x=\"230.0mm\" y=\"0.0mm\"\n",
       "      width=\"4.0mm\" height=\"25.0mm\"\n",
       "      fill=\"#787878\" stroke=\"none\" />\n",
       "<rect x=\"235.0mm\" y=\"0.0mm\"\n",
       "      width=\"4.0mm\" height=\"25.0mm\"\n",
       "      fill=\"#7A7A7A\" stroke=\"none\" />\n",
       "<rect x=\"240.0mm\" y=\"0.0mm\"\n",
       "      width=\"4.0mm\" height=\"25.0mm\"\n",
       "      fill=\"#7D7D7D\" stroke=\"none\" />\n",
       "<rect x=\"245.0mm\" y=\"0.0mm\"\n",
       "      width=\"4.0mm\" height=\"25.0mm\"\n",
       "      fill=\"#808080\" stroke=\"none\" />\n",
       "</svg>"
      ],
      "text/plain": [
       "50-element Array{RGB{Float64},1}:\n",
       " RGB{Float64}(0.0,0.0,0.0)                  \n",
       " RGB{Float64}(0.0102041,0.0102041,0.0102041)\n",
       " RGB{Float64}(0.0204082,0.0204082,0.0204082)\n",
       " RGB{Float64}(0.0306122,0.0306122,0.0306122)\n",
       " RGB{Float64}(0.0408163,0.0408163,0.0408163)\n",
       " RGB{Float64}(0.0510204,0.0510204,0.0510204)\n",
       " RGB{Float64}(0.0612245,0.0612245,0.0612245)\n",
       " RGB{Float64}(0.0714286,0.0714286,0.0714286)\n",
       " RGB{Float64}(0.0816327,0.0816327,0.0816327)\n",
       " RGB{Float64}(0.0918367,0.0918367,0.0918367)\n",
       " RGB{Float64}(0.102041,0.102041,0.102041)   \n",
       " RGB{Float64}(0.112245,0.112245,0.112245)   \n",
       " RGB{Float64}(0.122449,0.122449,0.122449)   \n",
       " ⋮                                          \n",
       " RGB{Float64}(0.387755,0.387755,0.387755)   \n",
       " RGB{Float64}(0.397959,0.397959,0.397959)   \n",
       " RGB{Float64}(0.408163,0.408163,0.408163)   \n",
       " RGB{Float64}(0.418367,0.418367,0.418367)   \n",
       " RGB{Float64}(0.428571,0.428571,0.428571)   \n",
       " RGB{Float64}(0.438776,0.438776,0.438776)   \n",
       " RGB{Float64}(0.44898,0.44898,0.44898)      \n",
       " RGB{Float64}(0.459184,0.459184,0.459184)   \n",
       " RGB{Float64}(0.469388,0.469388,0.469388)   \n",
       " RGB{Float64}(0.479592,0.479592,0.479592)   \n",
       " RGB{Float64}(0.489796,0.489796,0.489796)   \n",
       " RGB{Float64}(0.5,0.5,0.5)                  "
      ]
     },
     "execution_count": 5,
     "metadata": {
      "comm_id": "0a0b6c56-7e79-49dc-885c-d3f879ce053a",
      "reactive": true
     },
     "output_type": "execute_result"
    }
   ],
   "source": [
    "using Colors\n",
    "@manipulate for r in 0:0.1:1, g in 0:0.1:1, b in 0:0.1:1, n in 1:100\n",
    "    linspace(RGB(0.0,0.0,0.0), RGB(r,g,b), n)\n",
    "end"
   ]
  },
  {
   "cell_type": "code",
   "execution_count": 2,
   "metadata": {
    "collapsed": false
   },
   "outputs": [
    {
     "name": "stderr",
     "output_type": "stream",
     "text": [
      "INFO: Recompiling stale cache file /Users/miro3/.julia/lib/v0.4/PyPlot.ji for module PyPlot.\n"
     ]
    }
   ],
   "source": [
    "using PyPlot"
   ]
  },
  {
   "cell_type": "code",
   "execution_count": 4,
   "metadata": {
    "collapsed": false
   },
   "outputs": [
    {
     "ename": "LoadError",
     "evalue": "LoadError: UndefVarError: @manipulate not defined\nwhile loading In[4], in expression starting on line 9",
     "output_type": "error",
     "traceback": [
      "LoadError: UndefVarError: @manipulate not defined\nwhile loading In[4], in expression starting on line 9",
      "",
      " in getindex at /Users/miro3/.julia/v0.4/PyCall/src/PyCall.jl:228",
      " in pysequence_query at /Users/miro3/.julia/v0.4/PyCall/src/conversions.jl:717",
      " [inlined code] from /Users/miro3/.julia/v0.4/PyCall/src/conversions.jl:733",
      " in pytype_query at /Users/miro3/.julia/v0.4/PyCall/src/conversions.jl:755",
      " in convert at /Users/miro3/.julia/v0.4/PyCall/src/conversions.jl:782",
      " in pycall at /Users/miro3/.julia/v0.4/PyCall/src/PyCall.jl:363",
      " in call at /Users/miro3/.julia/v0.4/PyCall/src/PyCall.jl:372",
      " in close_queued_figs at /Users/miro3/.julia/v0.4/PyPlot/src/PyPlot.jl:401"
     ]
    }
   ],
   "source": [
    "x = linspace(0,10,1000)\n",
    "clf()\n",
    "f = figure()\n",
    "@manipulate for α = 1:0.1:4, β = 1:0.1:4, leg=\"a funny plot\"\n",
    "    withfig(f) do\n",
    "        plot(x, cos(α*x + sin(β*x)))\n",
    "        legend([leg])\n",
    "    end\n",
    "end"
   ]
  },
  {
   "cell_type": "code",
   "execution_count": 14,
   "metadata": {
    "collapsed": false
   },
   "outputs": [
    {
     "data": {
      "text/html": [],
      "text/plain": [
       "Slider{Int64}([Input{Int64}] 10,\"n\",10,0:20)"
      ]
     },
     "metadata": {},
     "output_type": "display_data"
    },
    {
     "data": {
      "text/html": [],
      "text/plain": [
       "Latex(\"\",\"\\$\\$32 \\\\left(- 32 x^{10} \\\\sin{\\\\left (x^{2} \\\\right )} + 720 x^{8} \\\\cos{\\\\left (x^{2} \\\\right )} + 5040 x^{6} \\\\sin{\\\\left (x^{2} \\\\right )} - 12600 x^{4} \\\\cos{\\\\left (x^{2} \\\\right )} - 9450 x^{2} \\\\sin{\\\\left (x^{2} \\\\right )} + 945 \\\\cos{\\\\left (x^{2} \\\\right )}\\\\right)\\$\\$\")"
      ]
     },
     "execution_count": 14,
     "metadata": {},
     "output_type": "execute_result"
    }
   ],
   "source": [
    "using SymPy\n",
    "x = Sym(\"x\")\n",
    "@manipulate for n=0:20\n",
    "    latex(SymPy.diff(sin(x^2), x, n))\n",
    "end"
   ]
  }
 ],
 "metadata": {
  "kernelspec": {
   "display_name": "Julia 0.4.2",
   "language": "julia",
   "name": "julia-0.4"
  },
  "language": "Julia",
  "language_info": {
   "file_extension": ".jl",
   "mimetype": "application/julia",
   "name": "julia",
   "version": "0.4.2"
  }
 },
 "nbformat": 4,
 "nbformat_minor": 0
}
