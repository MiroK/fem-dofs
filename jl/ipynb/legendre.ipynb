{
 "cells": [
  {
   "cell_type": "code",
   "execution_count": 3,
   "metadata": {
    "collapsed": true
   },
   "outputs": [],
   "source": [
    "from sympy import *\n",
    "\n",
    "x, y = symbols('x, y')\n",
    "\n",
    "def legendre_1d(c):\n",
    "    return sum(c[i]*legendre(i, x) for i in range(len(c)))\n",
    "\n",
    "def legendre_2d(c):\n",
    "    return sum(c[i, j]*legendre(i, x)*legendre(j, y)\n",
    "               for i in range(c.shape[0]) for j in range(c.shape[1]))"
   ]
  },
  {
   "cell_type": "code",
   "execution_count": 11,
   "metadata": {
    "collapsed": false
   },
   "outputs": [
    {
     "name": "stdout",
     "output_type": "stream",
     "text": [
      "f(0.2)=0.36, df/dx(0.2)=5 ddf=6.000000\n",
      "f(0.1)=-0.1075, df/dx(0.1)=4.325 ddf=7.500000\n",
      "f(0.5)=2.0625, df/dx(0.5)=6.125 ddf=1.500000\n",
      "f(0.6)=2.68, df/dx(0.6)=6.2 ddf=0.000000\n"
     ]
    }
   ],
   "source": [
    "c = [1, 2, 3, -1]\n",
    "points = [0.2, 0.1, 0.5, 0.6]\n",
    "\n",
    "f = legendre_1d(c)\n",
    "for p in points:\n",
    "    print 'f(%g)=%g, df/dx(%g)=%g ddf=%f' % \\\n",
    "        (p, f.subs(x, p), p, f.diff(x, 1).subs(x, p), f.diff(x, 2).subs(x, p))"
   ]
  },
  {
   "cell_type": "code",
   "execution_count": 14,
   "metadata": {
    "collapsed": false
   },
   "outputs": [
    {
     "name": "stdout",
     "output_type": "stream",
     "text": [
      "@x=0.3, y=0.4 f=3.4244\n",
      "@x=0.3, y=0.4 dx=4.548 dy=2.072\n",
      "@x=0.3, y=0.4 [0, 4.24000000000000, 4.24000000000000, -2.82000000000000]\n",
      "@x=-0.2, y=0.6 f=1.0784\n",
      "@x=-0.2, y=0.6 dx=5.408 dy=-0.672\n",
      "@x=-0.2, y=0.6 [0, 4.36000000000000, 4.36000000000000, -3.12000000000000]\n",
      "@x=0.8, y=-1 f=-2.64\n",
      "@x=0.8, y=-1 dx=-0.8 dy=7.72\n",
      "@x=0.8, y=-1 [0, 3.40000000000000, 3.40000000000000, -2.52000000000000]\n"
     ]
    }
   ],
   "source": [
    "import numpy as np\n",
    "c = np.asarray([[1, 2, -1], [3, 4, 0.2]])\n",
    "points = [[0.3, 0.4], [-0.2, 0.6], [0.8, -1.]]\n",
    "\n",
    "f = legendre_2d(c)\n",
    "for p in points:\n",
    "    fval = f.subs({x: p[0], y:p[1]})\n",
    "    print '@x=%g, y=%g f=%g' % (p[0], p[1], fval)\n",
    "    dx_val = f.diff(x, 1).subs({x: p[0], y:p[1]})\n",
    "    dy_val = f.diff(y, 1).subs({x: p[0], y:p[1]})\n",
    "    print '@x=%g, y=%g dx=%g dy=%g' % (p[0], p[1], dx_val, dy_val)\n",
    "    dxx = f.diff(x, 2).subs({x: p[0], y:p[1]})\n",
    "    dyx = f.diff(y, 1).diff(x, 1).subs({x: p[0], y:p[1]})\n",
    "    dxy = f.diff(x, 1).diff(y, 1).subs({x: p[0], y:p[1]})\n",
    "    dyy = f.diff(y, 2).subs({x: p[0], y:p[1]})\n",
    "    print '@x=%g, y=%g %r' % (p[0], p[1], [dxx, dxy, dyx, dyy])"
   ]
  },
  {
   "cell_type": "code",
   "execution_count": 39,
   "metadata": {
    "collapsed": false
   },
   "outputs": [
    {
     "data": {
      "text/plain": [
       "0.000302"
      ]
     },
     "execution_count": 39,
     "metadata": {},
     "output_type": "execute_result"
    }
   ],
   "source": [
    "302e-6"
   ]
  },
  {
   "cell_type": "code",
   "execution_count": 1,
   "metadata": {
    "collapsed": false
   },
   "outputs": [
    {
     "data": {
      "text/plain": [
       "[(0, 0), (0, 1), (0, 2), (1, 0), (1, 1), (1, 2)]"
      ]
     },
     "execution_count": 1,
     "metadata": {},
     "output_type": "execute_result"
    }
   ],
   "source": [
    "[(i, j) for i in range(2) for j in range(3)]"
   ]
  },
  {
   "cell_type": "code",
   "execution_count": null,
   "metadata": {
    "collapsed": true
   },
   "outputs": [],
   "source": []
  }
 ],
 "metadata": {
  "kernelspec": {
   "display_name": "Python 2",
   "language": "python",
   "name": "python2"
  },
  "language_info": {
   "codemirror_mode": {
    "name": "ipython",
    "version": 2
   },
   "file_extension": ".py",
   "mimetype": "text/x-python",
   "name": "python",
   "nbconvert_exporter": "python",
   "pygments_lexer": "ipython2",
   "version": "2.7.11"
  }
 },
 "nbformat": 4,
 "nbformat_minor": 0
}
