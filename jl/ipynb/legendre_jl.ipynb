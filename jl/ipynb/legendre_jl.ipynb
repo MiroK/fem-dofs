{
 "cells": [
  {
   "cell_type": "code",
   "execution_count": 1,
   "metadata": {
    "collapsed": false
   },
   "outputs": [
    {
     "data": {
      "text/plain": [
       "legval (generic function with 2 methods)"
      ]
     },
     "execution_count": 1,
     "metadata": {},
     "output_type": "execute_result"
    }
   ],
   "source": [
    "\"\"\"\n",
    "Evaluate linear combination of Legendre polynomials L_k(x) given in point x from 1d interval.\n",
    "In short, f(x) = sum_k c_k L_k(x) is computed.\n",
    "\"\"\"\n",
    "function legval{T<:Real}(x::T, c::Vector{T})\n",
    "    if length(c) == 1\n",
    "        c0 = c[1]\n",
    "        c1 = 0.\n",
    "    elseif length(c) == 2\n",
    "        c0 = c[1]\n",
    "        c1 = c[2]\n",
    "    else\n",
    "        nd = length(c)\n",
    "        c0 = c[end-1]\n",
    "        c1 = c[end]\n",
    "\n",
    "        for i in range(2, nd-2)\n",
    "            tmp = c0\n",
    "            nd = nd - 1\n",
    "            c0 = c[end-i] - (c1*(nd - 1))/nd\n",
    "            c1 = tmp + (c1*x*(2*nd - 1))/nd\n",
    "        end  \n",
    "      end\n",
    "      return c0 + c1*x\n",
    "end\n",
    "\n",
    "\"\"\"\n",
    "Compute m-th derivative of Legendre series as another Legendre series.\n",
    "So legval(x, legder(c, 1)) is the value at x of sum_k c_k L'_k.\n",
    "\"\"\"\n",
    "function legder(c::Vector{Float64}, m::Int64)\n",
    "    assert(m >= 0)\n",
    "    # 0 order derivative\n",
    "    if m == 0\n",
    "        return c\n",
    "    # len(c) is 0, 1, 2, 3 degree. Check for derivative of order larger than max\n",
    "    # degree\n",
    "    elseif m >= length(c)\n",
    "        return [0.]\n",
    "    end\n",
    "    \n",
    "    n = length(c)\n",
    "    for i in range(1, m)\n",
    "        n = n - 1\n",
    "        der = zeros(n)\n",
    "        c = copy(c)\n",
    "     \n",
    "        for j in n:-1:3\n",
    "            der[j] = (2*j - 1)*c[j+1]\n",
    "            c[j - 1] += c[j+1]\n",
    "        end\n",
    "        if n > 1\n",
    "            der[2] = 3*c[3]\n",
    "        end\n",
    "        der[1] = c[2]\n",
    "        c = der\n",
    "    end\n",
    "    return c\n",
    "end\n",
    "\n",
    "\"\"\"\n",
    "Vectorized version of legval. X is a vector of x coordinates.\n",
    "\"\"\"\n",
    "function legval{T<:Real}(x::Vector{T}, c::Vector{T})\n",
    "    y = similar(x)\n",
    "    for (i, xi) in enumerate(x)\n",
    "        y[i] = legval(xi, c)\n",
    "    end\n",
    "    y\n",
    "end"
   ]
  },
  {
   "cell_type": "code",
   "execution_count": 2,
   "metadata": {
    "collapsed": false
   },
   "outputs": [
    {
     "name": "stdout",
     "output_type": "stream",
     "text": [
      "x=0.2 f=0.3600000000000001 "
     ]
    }
   ],
   "source": [
    "# Test against sympy\n",
    "c = [1., 2., 3., -1.]\n",
    "points = [0.2, 0.1, 0.5, 0.6]\n",
    "\n",
    "values = legval(points, c)\n",
    "for (x, v) in zip(points, values)\n",
    "    println(\"x=$(x) \", \n",
    "            \"f=$(v) \",\n",
    "            \"df=$(legval(x, legder(c, 1))) \",\n",
    "            \"d^2f=$(legval(x, legder(c, 2)))\")\n",
    "end"
   ]
  },
  {
   "cell_type": "code",
   "execution_count": 3,
   "metadata": {
    "collapsed": false
   },
   "outputs": [
    {
     "data": {
      "text/plain": [
       "legval (generic function with 4 methods)"
      ]
     },
     "execution_count": 3,
     "metadata": {},
     "output_type": "execute_result"
    }
   ],
   "source": [
    "\"\"\"\n",
    "Evaluate linear combination of Legendre polynomials L_i(x)*L_j(y) given in point x from 2d.\n",
    "The polynomials are obtained as tensor product of 1d polynomial in x and y, i.e.\n",
    "P(x, y) = c[0, 0]*L_0(x)*L_0(x) + c[0, 1]*L_0(x)*L_1(y) ...\n",
    "\"\"\"\n",
    "function legval{T<:Real}(x::T, y::T, c::Matrix{T})\n",
    "    # First eval at x coord polynomials of x specified by columns in c\n",
    "    ncols = size(c, 2)\n",
    "    c_x = zeros(T, ncols)\n",
    "    for col in 1:ncols\n",
    "        c_x[col] = legval(x, c[:, col])\n",
    "    end\n",
    "    # Now eval at y with new coefs\n",
    "    legval(y, c_x)\n",
    "end\n",
    "\n",
    "\"\"\"\n",
    "Compute derivatives of 2d(tensor product) Legendre series. The derivative is specified\n",
    "by a multidex m = [mx, my] and requests mx derivative w.r.t to x and my derivative w.r.t\n",
    "y.\n",
    "\"\"\"\n",
    "function legder{T<:Real}(c::Matrix{T}, m::Vector{Int64})\n",
    "    assert(all(v -> v >= 0, m))   # No antiderivativec\n",
    "    assert(length(m) == 2)        # Multiindex of length 2\n",
    "    # Zero-th order derivative\n",
    "    if m == [0, 0]\n",
    "        return c\n",
    "    # Taking derivatives higher than the degree\n",
    "    elseif m[1] >= size(c, 1) || m[2] >= size(c, 2)\n",
    "        return zeros(1, 1)\n",
    "    end\n",
    "    \n",
    "    # Compute\n",
    "    # Partial derivative w.r.t x\n",
    "    if m == [1, 0]        \n",
    "        nrows, ncols = size(c, 1), size(c, 2)\n",
    "        # Take derivative col by col\n",
    "        diff = zeros(nrows-1, ncols)\n",
    "        for col in 1:ncols\n",
    "            diff[:, col] = legder(c[:, col], 1)\n",
    "        end\n",
    "        return diff\n",
    "    # Partial derivative w.r.t y \n",
    "    elseif m == [0, 1]\n",
    "        # Clever use of recursion :)\n",
    "        return legder(c', [1, 0])'\n",
    "    # Higher order stuff\n",
    "    else\n",
    "        mx, my = first(m), last(m)\n",
    "        coef = copy(c)\n",
    "        # We take the sweps in x and y. This should be more stable then loweing \n",
    "        # x and then y.\n",
    "        while mx > 0 || my > 0\n",
    "            # \\partial x\n",
    "            if mx > 0\n",
    "                coef = legder(coef, [1, 0])\n",
    "                mx -= 1\n",
    "            end\n",
    "            # \\partial y\n",
    "            if my > 0\n",
    "                coef = legder(coef, [0, 1])\n",
    "                my -= 1\n",
    "            end\n",
    "        end\n",
    "        return coef\n",
    "    end\n",
    "end\n",
    "\n",
    "\"\"\"\n",
    "Vectorized version of legval. X is a (number of points, 2) matrix of coordinates.\n",
    "\"\"\"\n",
    "function legval{T<:Real}(x::Matrix{T}, c::Matrix{T})\n",
    "    nrows = size(x, 1)\n",
    "    y = zeros(T, nrows)\n",
    "    for i in 1:nrows\n",
    "        y[i] = legval(x[i, 1], x[i, 2], c)\n",
    "    end\n",
    "    y\n",
    "end"
   ]
  },
  {
   "cell_type": "code",
   "execution_count": 4,
   "metadata": {
    "collapsed": false
   },
   "outputs": [
    {
     "name": "stdout",
     "output_type": "stream",
     "text": [
      "df=5.0 d^2f=6.0\n",
      "x=0.1 f=-0.10750000000000004 df=4.325 d^2f=7.5\n",
      "x=0.5 f=2.0625 df=6.125 d^2f=1.5\n",
      "x=0.6 f=2.68 df=6.199999999999999 d^2f=0.0\n",
      "["
     ]
    }
   ],
   "source": [
    "# Test against sympy\n",
    "c = [1. 2. -1; 3 4 0.2]\n",
    "points = [0.3 0.4; -0.2 0.6; 0.8 -1.]\n",
    "\n",
    "\n",
    "f = legval(points, c)\n",
    "dx = legval(points, legder(c, [1, 0]))\n",
    "dy = legval(points, legder(c, [0, 1]))\n",
    "dxdx = legval(points, legder(c, [2, 0]))\n",
    "dxdy = legval(points, legder(c, [1, 1]))\n",
    "dydy = legval(points, legder(c, [0, 2]))\n",
    "dydydy = legval(points, legder(c, [0, 3]))\n",
    "\n",
    "println(f)\n",
    "println(dx)\n",
    "println(dy)\n",
    "println(dxdx)\n",
    "println(dxdy)\n",
    "println(dydy)\n",
    "println(dydydy)"
   ]
  },
  {
   "cell_type": "code",
   "execution_count": 5,
   "metadata": {
    "collapsed": false
   },
   "outputs": [
    {
     "data": {
      "text/plain": [
       "evaluate_derivate (generic function with 1 method)"
      ]
     },
     "execution_count": 5,
     "metadata": {},
     "output_type": "execute_result"
    }
   ],
   "source": [
    "typealias MatVec Union{Vector, Matrix}\n",
    "\n",
    "# Legendre polynomial is given by expansion coefs w.r.t basis of L_k\n",
    "type LegendrePolynomial\n",
    "    coefs::MatVec\n",
    "end\n",
    "\n",
    "# Evaluate legendre polynomial: vec[vec], mat[mat]\n",
    "function Base.call(f::LegendrePolynomial, x::MatVec)\n",
    "    legval(x, f.coefs)\n",
    "end\n",
    "\n",
    "evaluate(f::LegendrePolynomial, x::MatVec) = f(x)\n",
    "\n",
    "# Compute derivivative specified by multi-index\n",
    "function evaluate_derivate(f::LegendrePolynomial, m::Vector{Int64}, x::MatVec)\n",
    "    if length(m) == 1\n",
    "        return legval(x, legder(f.coefs, m[1]))\n",
    "    else\n",
    "        println(m, typeof(f.coefs), typeof(m))\n",
    "        return legval(x, legder(f.coefs, m))\n",
    "    end\n",
    "end"
   ]
  },
  {
   "cell_type": "code",
   "execution_count": 6,
   "metadata": {
    "collapsed": false
   },
   "outputs": [
    {
     "data": {
      "text/plain": [
       "4-element Array{Float64,1}:\n",
       " 5.0  \n",
       " 4.325\n",
       " 6.125\n",
       " 6.2  "
      ]
     },
     "execution_count": 6,
     "metadata": {},
     "output_type": "execute_result"
    },
    {
     "name": "stdout",
     "output_type": "stream",
     "text": [
      "3.4244000000000003,1.0784,-2.6399999999999997]\n",
      "[4.548,5.4079999999999995,-0.8000000000000003]\n",
      "[2.072,-0.6719999999999999,7.720000000000001]\n",
      "[0.0,0.0,0.0]\n",
      "[4.24,4.36,3.4]\n",
      "[-2.82,-3.12,-2.52]\n",
      "[0.0,0.0,0.0]\n"
     ]
    }
   ],
   "source": [
    "c = [1., 2., 3., -1.]\n",
    "points = [0.2, 0.1, 0.5, 0.6]\n",
    "\n",
    "f = LegendrePolynomial(c)\n",
    "evaluate(f, points)\n",
    "evaluate_derivate(f, [1], points)"
   ]
  },
  {
   "cell_type": "code",
   "execution_count": 7,
   "metadata": {
    "collapsed": false
   },
   "outputs": [
    {
     "name": "stdout",
     "output_type": "stream",
     "text": [
      "[1"
     ]
    },
    {
     "data": {
      "text/plain": [
       "3-element Array{Float64,1}:\n",
       "  4.548\n",
       "  5.408\n",
       " -0.8  "
      ]
     },
     "execution_count": 7,
     "metadata": {},
     "output_type": "execute_result"
    }
   ],
   "source": [
    "c = [1. 2. -1; 3 4 0.2]\n",
    "points = [0.3 0.4; -0.2 0.6; 0.8 -1.]\n",
    "\n",
    "f = LegendrePolynomial(c)\n",
    "fvals = evaluate(f, points)\n",
    "dfvals = evaluate_derivate(f, [1, 0], points)"
   ]
  },
  {
   "cell_type": "code",
   "execution_count": 8,
   "metadata": {
    "collapsed": false
   },
   "outputs": [
    {
     "data": {
      "text/plain": [
       "Array{LegendrePolynomial,1}"
      ]
     },
     "execution_count": 8,
     "metadata": {},
     "output_type": "execute_result"
    }
   ],
   "source": [
    "# Just try make basis in 1d\n",
    "typealias LegendreBasis Vector{LegendrePolynomial}\n",
    "\n",
    "# The dimension will be indicated by cell type\n",
    "type Line\n",
    "end\n",
    "\n",
    "# The constructor which takes in matrix whose columns are the coeficients\n",
    "function LegendreBasis(coefs::Matrix)\n",
    "    assert(abs(det(coefs)) > 1E-14)\n",
    "    LegendreBasis([LegendrePolynomial(coefs[:, col]) for col in 1:size(coefs, 2)])\n",
    "end\n",
    "\n",
    "# If degree is given, we use columns of identity matrix\n",
    "LegendreBasis(line::Line, degree::Int64) = LegendreBasis(eye(degree))"
   ]
  },
  {
   "cell_type": "code",
   "execution_count": 9,
   "metadata": {
    "collapsed": false
   },
   "outputs": [
    {
     "name": "stdout",
     "output_type": "stream",
     "text": [
      ",0]Array{Float64,2}Array{Int64,1}\n"
     ]
    },
    {
     "data": {
      "text/plain": [
       "0x881421628c7aad7b"
      ]
     },
     "execution_count": 9,
     "metadata": {},
     "output_type": "execute_result"
    }
   ],
   "source": [
    "# don't forget immutable!\n",
    "# Function, simple algebraic operations...\n",
    "#\n",
    "\n",
    "abstract LinearFunctional\n",
    "\n",
    "type PointEvaluation <: LinearFunctional\n",
    "    point::Vector\n",
    "    id::UInt64\n",
    "    \n",
    "    function PointEvaluation(p::Vector)\n",
    "        id = hash((p, 0))\n",
    "        new(p, id)\n",
    "    end\n",
    "end\n",
    "\n",
    "Base.call(l::PointEvaluation, f::Function) = f(l.point)\n",
    "\n",
    "\n",
    "\n",
    "PointEvaluation([1.]).id"
   ]
  },
  {
   "cell_type": "code",
   "execution_count": 66,
   "metadata": {
    "collapsed": false
   },
   "outputs": [
    {
     "data": {
      "text/plain": [
       "gauss_legendre (generic function with 3 methods)"
      ]
     },
     "execution_count": 66,
     "metadata": {},
     "output_type": "execute_result"
    }
   ],
   "source": [
    "# Stuff for quadrature\n",
    "\"\"\"Points and weight for exact integration of polynomials of degree = 2*degree -1.\"\"\"\n",
    "function gauss_legendre(domain::Line, degree::Int)\n",
    "    #The implementation is based on eigenvalues of the matrix T that is similar to\n",
    "    #the Jacobi matrix J. Both are tridiagonal but the T matrix is symmetric and\n",
    "    #the main diagonal is 0.\n",
    "    diag = zeros(degree)\n",
    "    up_diag = Float64[k/sqrt(4*k^2-1) for k=1:degree-1]\n",
    "    T = SymTridiagonal(diag, up_diag)\n",
    "    xq, ev = eig(T)\n",
    "    wq = reshape(2*ev[1, :].^2, degree)\n",
    "    return xq, wq\n",
    "end\n",
    "\n",
    "# Stuff for 2d\n",
    "function gauss_legendre(domain::Line, degree::Tuple{Int64, Int64})\n",
    "    degree_x, degree_y = first(degree), last(degree)\n",
    "    xq, wq = gauss_legendre(domain, degree_x)\n",
    "    if degree_x == degree_y\n",
    "        weights = Float64[i*j for i in wq, j in wq]\n",
    "        points = hcat([Vector{Float64}([x, y]) for x in xq, y in xq])\n",
    "    end\n",
    "    collect(points), collect(weights)\n",
    "end"
   ]
  },
  {
   "cell_type": "code",
   "execution_count": 70,
   "metadata": {
    "collapsed": false
   },
   "outputs": [
    {
     "data": {
      "text/plain": [
       "([[-0.7745966692414824,-0.7745966692414824],[8.881784197001252e-16,-0.7745966692414824],[0.7745966692414834,-0.7745966692414824],[-0.7745966692414824,8.881784197001252e-16],[8.881784197001252e-16,8.881784197001252e-16],[0.7745966692414834,8.881784197001252e-16],[-0.7745966692414824,0.7745966692414834],[8.881784197001252e-16,0.7745966692414834],[0.7745966692414834,0.7745966692414834]],[0.3086419753086436,0.49382716049382724,0.3086419753086429,0.49382716049382724,0.7901234567901196,0.4938271604938262,0.3086419753086429,0.4938271604938262,0.30864197530864224])"
      ]
     },
     "execution_count": 70,
     "metadata": {},
     "output_type": "execute_result"
    }
   ],
   "source": [
    "xq, wq = gauss_legendre(Line(), (3, 3))"
   ]
  },
  {
   "cell_type": "code",
   "execution_count": 71,
   "metadata": {
    "collapsed": false
   },
   "outputs": [
    {
     "data": {
      "text/plain": [
       "9-element Array{Float64,1}:\n",
       " 0.308642\n",
       " 0.493827\n",
       " 0.308642\n",
       " 0.493827\n",
       " 0.790123\n",
       " 0.493827\n",
       " 0.308642\n",
       " 0.493827\n",
       " 0.308642"
      ]
     },
     "execution_count": 71,
     "metadata": {},
     "output_type": "execute_result"
    }
   ],
   "source": [
    "wq"
   ]
  },
  {
   "cell_type": "code",
   "execution_count": 12,
   "metadata": {
    "collapsed": false
   },
   "outputs": [
    {
     "data": {
      "text/plain": [
       "2.5793354566071804e-14"
      ]
     },
     "execution_count": 12,
     "metadata": {},
     "output_type": "execute_result"
    }
   ],
   "source": [
    "line = Line()\n",
    "basis = LegendreBasis(line, 10)\n",
    "xq, wq = gauss_legendre(line, 11)\n",
    "\n",
    "M = zeros(10, 10)\n",
    "for (i, u) in enumerate(basis), (j, v) in enumerate(basis)\n",
    "    M[i, j] = sum(wq.*(u(xq).*v(xq)))\n",
    "end\n",
    "\n",
    "M0 = diagm([2/(2k-1) for k in 1:10])\n",
    "\n",
    "norm(M-M0)"
   ]
  },
  {
   "cell_type": "code",
   "execution_count": 13,
   "metadata": {
    "collapsed": true
   },
   "outputs": [],
   "source": [
    "# AbstractFunction (polynomial degree)\n",
    "# AbstractFunctional\n",
    "# AbstractCell\n",
    "#"
   ]
  },
  {
   "cell_type": "code",
   "execution_count": 34,
   "metadata": {
    "collapsed": false
   },
   "outputs": [
    {
     "data": {
      "text/plain": [
       "3x3 Array{Tuple{Any,Any},2}:\n",
       " (1,4)  (1,5)  (1,6)\n",
       " (2,4)  (2,5)  (2,6)\n",
       " (3,4)  (3,5)  (3,6)"
      ]
     },
     "execution_count": 34,
     "metadata": {},
     "output_type": "execute_result"
    }
   ],
   "source": [
    "x = [1, 2, 3]\n",
    "y = [4, 5, 6]\n",
    "[(xi, yi) for xi in x, yi in y]"
   ]
  },
  {
   "cell_type": "code",
   "execution_count": 35,
   "metadata": {
    "collapsed": false
   },
   "outputs": [
    {
     "data": {
      "text/plain": [
       "3x2 Array{Int64,2}:\n",
       " 1  4\n",
       " 2  5\n",
       " 3  6"
      ]
     },
     "execution_count": 35,
     "metadata": {},
     "output_type": "execute_result"
    }
   ],
   "source": [
    "hcat(x, y)"
   ]
  },
  {
   "cell_type": "code",
   "execution_count": 16,
   "metadata": {
    "collapsed": false
   },
   "outputs": [
    {
     "data": {
      "text/plain": [
       "(1,)"
      ]
     },
     "execution_count": 16,
     "metadata": {},
     "output_type": "execute_result"
    }
   ],
   "source": [
    "a = (1, )"
   ]
  },
  {
   "cell_type": "code",
   "execution_count": 17,
   "metadata": {
    "collapsed": false
   },
   "outputs": [
    {
     "data": {
      "text/plain": [
       "1"
      ]
     },
     "execution_count": 17,
     "metadata": {},
     "output_type": "execute_result"
    }
   ],
   "source": [
    "length(a)"
   ]
  },
  {
   "cell_type": "code",
   "execution_count": 36,
   "metadata": {
    "collapsed": false
   },
   "outputs": [
    {
     "ename": "LoadError",
     "evalue": "LoadError: MethodError: `collect` has no method matching collect(::Array{Int64,1}, ::Array{Int64,1})\nClosest candidates are:\n  collect{T}(!Matched::Type{T}, ::Any)\n  collect(::Any)\nwhile loading In[36], in expression starting on line 1",
     "output_type": "error",
     "traceback": [
      "LoadError: MethodError: `collect` has no method matching collect(::Array{Int64,1}, ::Array{Int64,1})\nClosest candidates are:\n  collect{T}(!Matched::Type{T}, ::Any)\n  collect(::Any)\nwhile loading In[36], in expression starting on line 1",
      ""
     ]
    }
   ],
   "source": [
    "collect(x, y)"
   ]
  },
  {
   "cell_type": "code",
   "execution_count": null,
   "metadata": {
    "collapsed": true
   },
   "outputs": [],
   "source": []
  }
 ],
 "metadata": {
  "kernelspec": {
   "display_name": "Julia 0.4.2",
   "language": "julia",
   "name": "julia-0.4"
  },
  "language_info": {
   "file_extension": ".jl",
   "mimetype": "application/julia",
   "name": "julia",
   "version": "0.4.2"
  }
 },
 "nbformat": 4,
 "nbformat_minor": 0
}
