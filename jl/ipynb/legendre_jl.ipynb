{
 "cells": [
  {
   "cell_type": "code",
   "execution_count": 39,
   "metadata": {
    "collapsed": false
   },
   "outputs": [
    {
     "data": {
      "text/plain": [
       "legval (generic function with 4 methods)"
      ]
     },
     "execution_count": 39,
     "metadata": {},
     "output_type": "execute_result"
    }
   ],
   "source": [
    "\"\"\"\n",
    "Evaluate linear combination of Legendre polynomials L_k(x) given in point x from 1d interval.\n",
    "In short, f(x) = sum_k c_k L_k(x) is computed.\n",
    "\"\"\"\n",
    "function legval{T<:Real}(x::T, c::Vector{T})\n",
    "  if length(c) == 1\n",
    "     c0 = c[1]\n",
    "     c1 = 0.\n",
    "  elseif length(c) == 2\n",
    "      c0 = c[1]\n",
    "      c1 = c[2]\n",
    "  else\n",
    "    nd = length(c)\n",
    "    c0 = c[end-1]\n",
    "    c1 = c[end]\n",
    "\n",
    "    for i in range(2, nd-2)\n",
    "      tmp = c0\n",
    "      nd = nd - 1\n",
    "      c0 = c[end-i] - (c1*(nd - 1))/nd\n",
    "      c1 = tmp + (c1*x*(2*nd - 1))/nd\n",
    "    end  \n",
    "  end\n",
    "  return c0 + c1*x\n",
    "end\n",
    "\n",
    "\"\"\"\n",
    "Compute m-th derivative of Legendre series as another Legendre series.\n",
    "So legval(x, legder(c, 1)) is the value at x of sum_k c_k L'_k.\n",
    "\"\"\"\n",
    "function legder(c::Vector{Float64}, m::Int64)\n",
    "  assert(m >= 0)\n",
    "  # 0 order derivative\n",
    "  if m == 0\n",
    "    return c\n",
    "  # len(c) is 0, 1, 2, 3 degree. Check for derivative of order larger than max\n",
    "  # degree\n",
    "  elseif m >= length(c)\n",
    "    return [0.]\n",
    "  # Compute \n",
    "  else\n",
    "    n = length(c)\n",
    "    for i in range(1, m)\n",
    "      n = n - 1\n",
    "      der = zeros(n)\n",
    "      c = copy(c)\n",
    "     \n",
    "      for j in n:-1:3\n",
    "        der[j] = (2*j - 1)*c[j+1]\n",
    "        c[j - 1] += c[j+1]\n",
    "      end\n",
    "      if n > 1\n",
    "        der[2] = 3*c[3]\n",
    "      end\n",
    "      der[1] = c[2]\n",
    "      c = der\n",
    "    end\n",
    "  end\n",
    "  return c\n",
    "end\n",
    "\n",
    "\"\"\"\n",
    "Vectorized version of legval. X is a vector of x coordinates.\n",
    "\"\"\"\n",
    "function legval{T<:Real}(x::Vector{T}, c::Vector{T})\n",
    "    y = similar(x)\n",
    "    for (i, xi) in enumerate(x)\n",
    "        y[i] = legval(xi, c)\n",
    "    end\n",
    "    y\n",
    "end"
   ]
  },
  {
   "cell_type": "code",
   "execution_count": 41,
   "metadata": {
    "collapsed": false
   },
   "outputs": [
    {
     "name": "stdout",
     "output_type": "stream",
     "text": [
      "x=0.2 f=0.3600000000000001 df=5.0 d^2f=6.0\n",
      "x=0.1 f=-0.10750000000000004 df=4.325 d^2f=7.5\n",
      "x=0.5 f=2.0625 df=6.125 d^2f=1.5\n",
      "x=0.6 f=2.68 df=6.199999999999999 d^2f=0.0\n"
     ]
    }
   ],
   "source": [
    "# Test against sympy\n",
    "c = [1., 2., 3., -1.]\n",
    "points = [0.2, 0.1, 0.5, 0.6]\n",
    "\n",
    "values = legval(points, c)\n",
    "for (x, v) in zip(points, values)\n",
    "    println(\"x=$(x) \", \n",
    "            \"f=$(v) \",\n",
    "            \"df=$(legval(x, legder(c, 1))) \",\n",
    "            \"d^2f=$(legval(x, legder(c, 2)))\")\n",
    "end"
   ]
  },
  {
   "cell_type": "code",
   "execution_count": 44,
   "metadata": {
    "collapsed": false
   },
   "outputs": [
    {
     "data": {
      "text/plain": [
       "legval (generic function with 4 methods)"
      ]
     },
     "execution_count": 44,
     "metadata": {},
     "output_type": "execute_result"
    }
   ],
   "source": [
    "\"\"\"\n",
    "Evaluate linear combination of Legendre polynomials L_i(x)*L_j(y) given in point x from 2d.\n",
    "The polynomials are obtained as tensor product of 1d polynomial in x and y, i.e.\n",
    "P(x, y) = c[0, 0]*L_0(x)*L_0(x) + c[0, 1]*L_0(x)*L_1(y) ...\n",
    "\"\"\"\n",
    "function legval{T<:Real}(x::T, y::T, c::Matrix{T})\n",
    "    # First eval at x coord polynomials of x specified by columns in c\n",
    "    ncols = size(c, 2)\n",
    "    c_x = zeros(T, ncols)\n",
    "    for col in 1:ncols\n",
    "        c_x[col] = legval(x, c[:, col])\n",
    "    end\n",
    "    # Now eval at y with new coefs\n",
    "    legval(y, c_x)\n",
    "end\n",
    "\n",
    "\"\"\"\n",
    "Compute derivatives of 2d(tensor product) Legendre series. The derivative is specified\n",
    "by a multidex m = [mx, my] and requests mx derivative w.r.t to x and my derivative w.r.t\n",
    "y.\n",
    "\"\"\"\n",
    "function legder{T<:Real}(c::Matrix{T}, m::Vector{Int64})\n",
    "    assert(all(v -> v >= 0, m))   # No antiderivativec\n",
    "    assert(length(m) == 2)        # Multiindex of length 2\n",
    "    # Zero-th order derivative\n",
    "    if m == [0, 0]\n",
    "        return c\n",
    "    # Partial derivative w.r.t x\n",
    "    elseif m == [1, 0]\n",
    "        # Handle function independent of x\n",
    "        nrows, ncols = size(c, 1), size(c, 2)\n",
    "        if nrows == 1\n",
    "            return zeros(c)\n",
    "        end\n",
    "        \n",
    "        # Take derivative col by col\n",
    "        diff = zeros(nrows-1, ncols)\n",
    "        for col in 1:ncols\n",
    "            diff[:, col] = legder(c[:, col])\n",
    "        end\n",
    "        return diff\n",
    "    # Partial derivative w.r.t y \n",
    "    elseif m == [0, 1]\n",
    "        # Clever use of recursion :)\n",
    "        return legder(c', [1, 0])'\n",
    "    # Higher order stuff\n",
    "    else\n",
    "        mx, my = first(m), last(m)\n",
    "        coef = copy(c)\n",
    "        # We take the sweps in x and y. This should be more stable then loweing \n",
    "        # x and then y.\n",
    "        while mx > 0 || my > 0\n",
    "            # \\partial x\n",
    "            if mx > 0\n",
    "                coef = legder(coef, [1, 0])\n",
    "                mx -= 1\n",
    "            end\n",
    "            # \\partial y\n",
    "            if my > 0\n",
    "                coef = legder(coef, [0, 1])\n",
    "                my -= 1\n",
    "            end\n",
    "        end\n",
    "        return coef\n",
    "    end\n",
    "end\n",
    "\n",
    "\"\"\"\n",
    "Vectorized version of legval. X is a (number of points, 2) matrix of coordinates.\n",
    "\"\"\"\n",
    "function legval{T<:Real}(x::Matrix{T}, c::Matrix{T})\n",
    "    nrows = size(x, 1)\n",
    "    y = zeros(T, nrows)\n",
    "    for i in 1:nrows\n",
    "        y[i] = legval(x[i, 1], x[i, 2], c)\n",
    "    end\n",
    "    y\n",
    "end"
   ]
  },
  {
   "cell_type": "code",
   "execution_count": 43,
   "metadata": {
    "collapsed": false
   },
   "outputs": [
    {
     "name": "stdout",
     "output_type": "stream",
     "text": [
      "[3.4244000000000003,1.0784,-2.6399999999999997]\n",
      "[4.548,5.4079999999999995,-0.8000000000000003]\n",
      "[2.072,-0.6719999999999999,7.720000000000001]\n",
      "[0.0,0.0,0.0]\n",
      "[4.24,4.36,3.4]\n",
      "[-2.82,-3.12,-2.52]\n"
     ]
    }
   ],
   "source": [
    "# Test against sympy\n",
    "c = [1. 2. -1; 3 4 0.2]\n",
    "points = [0.3 0.4; -0.2 0.6; 0.8 -1.]\n",
    "\n",
    "f = legval(points, c)\n",
    "dx = legval(points, legder(c, [1, 0]))\n",
    "dy = legval(points, legder(c, [0, 1]))\n",
    "dxdx = legval(points, legder(c, [2, 0]))\n",
    "dxdy = legval(points, legder(c, [1, 1]))\n",
    "dydy = legval(points, legder(c, [0, 2]))\n",
    "\n",
    "println(f)\n",
    "println(dx)\n",
    "println(dy)\n",
    "println(dxdx)\n",
    "println(dxdy)\n",
    "println(dydy)"
   ]
  },
  {
   "cell_type": "code",
   "execution_count": 85,
   "metadata": {
    "collapsed": false
   },
   "outputs": [
    {
     "data": {
      "text/plain": [
       "call (generic function with 1090 methods)"
      ]
     },
     "execution_count": 85,
     "metadata": {},
     "output_type": "execute_result"
    }
   ],
   "source": [
    "typealias MatVec Union{Vector, Matrix}\n",
    "\n",
    "# Legendre polynomial is given by expansion coefs w.r.t basis of L_k\n",
    "type LegendrePolynomial\n",
    "    coefs::MatVec\n",
    "end\n",
    "\n",
    "# Evaluate legendre polynomial\n",
    "function Base.call(f::LegendrePolynomial, x::MatVec)\n",
    "    10\n",
    "end"
   ]
  },
  {
   "cell_type": "code",
   "execution_count": 83,
   "metadata": {
    "collapsed": false
   },
   "outputs": [
    {
     "data": {
      "text/plain": [
       "7-element Array{Any,1}:\n",
       " call{T,N}(::Type{Array{T,N}}, ::Type{T}, d::NTuple{N,Int64}) at essentials.jl:198              \n",
       " call{T}(::Type{Array{T,N}}, ::Type{T}, m::Integer) at essentials.jl:200                        \n",
       " call{T}(::Type{Array{T,N}}, ::Type{T}, m::Integer, n::Integer) at essentials.jl:201            \n",
       " call{T}(::Type{Array{T,N}}, ::Type{T}, m::Integer, n::Integer, o::Integer) at essentials.jl:202\n",
       " call{T}(::Type{Array{T,N}}, ::Type{T}, d::Integer...) at essentials.jl:199                     \n",
       " call{T}(::Type{T}, arg) at essentials.jl:56                                                    \n",
       " call{T}(::Type{T}, args...) at essentials.jl:57                                                "
      ]
     },
     "execution_count": 83,
     "metadata": {},
     "output_type": "execute_result"
    }
   ],
   "source": [
    "methods(Array)"
   ]
  },
  {
   "cell_type": "code",
   "execution_count": 71,
   "metadata": {
    "collapsed": false
   },
   "outputs": [
    {
     "data": {
      "text/plain": [
       "2x2 Array{Int64,2}:\n",
       " 1  2\n",
       " 3  4"
      ]
     },
     "execution_count": 71,
     "metadata": {},
     "output_type": "execute_result"
    }
   ],
   "source": [
    "vec = [1, 2]\n",
    "mat = [1 2; 3 4]"
   ]
  },
  {
   "cell_type": "code",
   "execution_count": 73,
   "metadata": {
    "collapsed": false
   },
   "outputs": [
    {
     "data": {
      "text/plain": [
       "4"
      ]
     },
     "execution_count": 73,
     "metadata": {},
     "output_type": "execute_result"
    }
   ],
   "source": [
    "fooo(mat)"
   ]
  },
  {
   "cell_type": "code",
   "execution_count": 88,
   "metadata": {
    "collapsed": false
   },
   "outputs": [
    {
     "data": {
      "text/plain": [
       "call (generic function with 1093 methods)"
      ]
     },
     "execution_count": 88,
     "metadata": {},
     "output_type": "execute_result"
    }
   ],
   "source": [
    "type Miro\n",
    "end\n",
    "\n",
    "Base.call(::Miro, x) = 1+x"
   ]
  },
  {
   "cell_type": "code",
   "execution_count": 89,
   "metadata": {
    "collapsed": false
   },
   "outputs": [
    {
     "data": {
      "text/plain": [
       "3-element Array{Int64,1}:\n",
       " 2\n",
       " 3\n",
       " 4"
      ]
     },
     "execution_count": 89,
     "metadata": {},
     "output_type": "execute_result"
    }
   ],
   "source": [
    "map(Miro(), [1, 2, 3])"
   ]
  },
  {
   "cell_type": "code",
   "execution_count": 64,
   "metadata": {
    "collapsed": false
   },
   "outputs": [
    {
     "data": {
      "text/plain": [
       "Function"
      ]
     },
     "execution_count": 64,
     "metadata": {},
     "output_type": "execute_result"
    }
   ],
   "source": [
    "Function"
   ]
  },
  {
   "cell_type": "code",
   "execution_count": 65,
   "metadata": {
    "collapsed": false
   },
   "outputs": [
    {
     "ename": "LoadError",
     "evalue": "LoadError: invalid subtyping in definition of XX\nwhile loading In[65], in expression starting on line 1",
     "output_type": "error",
     "traceback": [
      "LoadError: invalid subtyping in definition of XX\nwhile loading In[65], in expression starting on line 1",
      ""
     ]
    }
   ],
   "source": [
    "type XX <:\n",
    "end"
   ]
  },
  {
   "cell_type": "code",
   "execution_count": null,
   "metadata": {
    "collapsed": true
   },
   "outputs": [],
   "source": []
  }
 ],
 "metadata": {
  "kernelspec": {
   "display_name": "Julia 0.4.2",
   "language": "julia",
   "name": "julia-0.4"
  },
  "language_info": {
   "file_extension": ".jl",
   "mimetype": "application/julia",
   "name": "julia",
   "version": "0.4.2"
  }
 },
 "nbformat": 4,
 "nbformat_minor": 0
}
