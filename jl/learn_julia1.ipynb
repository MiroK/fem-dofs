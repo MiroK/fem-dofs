{
 "cells": [
  {
   "cell_type": "code",
   "execution_count": 7,
   "metadata": {
    "collapsed": false
   },
   "outputs": [
    {
     "data": {
      "text/plain": [
       "1"
      ]
     },
     "execution_count": 7,
     "metadata": {},
     "output_type": "execute_result"
    }
   ],
   "source": [
    "a = 1"
   ]
  },
  {
   "cell_type": "code",
   "execution_count": 8,
   "metadata": {
    "collapsed": false
   },
   "outputs": [
    {
     "data": {
      "text/plain": [
       "\"1\""
      ]
     },
     "execution_count": 8,
     "metadata": {},
     "output_type": "execute_result"
    }
   ],
   "source": [
    "string(a)"
   ]
  },
  {
   "cell_type": "code",
   "execution_count": null,
   "metadata": {
    "collapsed": false
   },
   "outputs": [],
   "source": [
    "prod(a)"
   ]
  },
  {
   "cell_type": "code",
   "execution_count": null,
   "metadata": {
    "collapsed": false
   },
   "outputs": [],
   "source": [
    "prepend!(a, 3)"
   ]
  },
  {
   "cell_type": "code",
   "execution_count": null,
   "metadata": {
    "collapsed": false
   },
   "outputs": [],
   "source": [
    "help(prepend)"
   ]
  },
  {
   "cell_type": "code",
   "execution_count": null,
   "metadata": {
    "collapsed": false
   },
   "outputs": [],
   "source": [
    "prepend!?"
   ]
  },
  {
   "cell_type": "code",
   "execution_count": null,
   "metadata": {
    "collapsed": false
   },
   "outputs": [],
   "source": [
    "function fail_to_fill_with_5(x)\n",
    "         temp = similar(x)\n",
    "         for i in 1:length(x)\n",
    "            temp[i] = 5\n",
    "         end\n",
    "         x[:] = temp\n",
    "       end"
   ]
  },
  {
   "cell_type": "code",
   "execution_count": 36,
   "metadata": {
    "collapsed": false
   },
   "outputs": [
    {
     "data": {
      "text/plain": [
       "1x4 Array{Int64,2}:\n",
       " 1  2  3  4"
      ]
     },
     "execution_count": 36,
     "metadata": {},
     "output_type": "execute_result"
    }
   ],
   "source": [
    "a = [1, 2, 3, 4]'"
   ]
  },
  {
   "cell_type": "code",
   "execution_count": null,
   "metadata": {
    "collapsed": false
   },
   "outputs": [],
   "source": [
    "fail_to_fill_with_5(a)"
   ]
  },
  {
   "cell_type": "code",
   "execution_count": null,
   "metadata": {
    "collapsed": false
   },
   "outputs": [],
   "source": [
    "a"
   ]
  },
  {
   "cell_type": "code",
   "execution_count": 34,
   "metadata": {
    "collapsed": false
   },
   "outputs": [
    {
     "data": {
      "text/plain": [
       "done (generic function with 52 methods)"
      ]
     },
     "execution_count": 34,
     "metadata": {},
     "output_type": "execute_result"
    }
   ],
   "source": [
    "type FibGen\n",
    "    n::Integer\n",
    "end\n",
    "\n",
    "function Base.start(::FibGen)\n",
    "    return (BigInt(0), BigInt(0), 0)\n",
    "end\n",
    "\n",
    "function Base.next(::FibGen, state)\n",
    "    if state == (BigInt(0), BigInt(0), 0)\n",
    "        return (BigInt(1), BigInt(0), 1)\n",
    "    else\n",
    "        return (state[1]+state[2], state[1], state[end]+1)\n",
    "    end\n",
    "end\n",
    "\n",
    "function Base.done(gen::FibGen, state)\n",
    "    state[end] == gen.n\n",
    "end"
   ]
  },
  {
   "cell_type": "code",
   "execution_count": 35,
   "metadata": {
    "collapsed": false
   },
   "outputs": [
    {
     "name": "stdout",
     "output_type": "stream",
     "text": [
      "1\n",
      "1\n",
      "2\n",
      "3\n",
      "5\n",
      "8\n",
      "13\n",
      "21\n",
      "34\n",
      "55\n",
      "89\n",
      "144\n",
      "233\n",
      "377\n",
      "610\n",
      "987\n",
      "1597\n",
      "2584\n",
      "4181\n",
      "6765\n",
      "10946\n",
      "17711\n",
      "28657\n",
      "46368\n",
      "75025\n",
      "121393\n",
      "196418\n",
      "317811\n",
      "514229\n",
      "832040\n",
      "1346269\n",
      "2178309\n",
      "3524578\n",
      "5702887\n",
      "9227465\n",
      "14930352\n",
      "24157817\n",
      "39088169\n",
      "63245986\n",
      "102334155\n",
      "165580141\n",
      "267914296\n",
      "433494437\n",
      "701408733\n",
      "1134903170\n",
      "1836311903\n",
      "2971215073\n",
      "4807526976\n",
      "7778742049\n",
      "12586269025\n",
      "20365011074\n",
      "32951280099\n",
      "53316291173\n",
      "86267571272\n",
      "139583862445\n",
      "225851433717\n",
      "365435296162\n",
      "591286729879\n",
      "956722026041\n",
      "1548008755920\n",
      "2504730781961\n",
      "4052739537881\n",
      "6557470319842\n",
      "10610209857723\n",
      "17167680177565\n",
      "27777890035288\n",
      "44945570212853\n",
      "72723460248141\n",
      "117669030460994\n",
      "190392490709135\n",
      "308061521170129\n",
      "498454011879264\n",
      "806515533049393\n",
      "1304969544928657\n",
      "2111485077978050\n",
      "3416454622906707\n",
      "5527939700884757\n",
      "8944394323791464\n",
      "14472334024676221\n",
      "23416728348467685\n",
      "37889062373143906\n",
      "61305790721611591\n",
      "99194853094755497\n",
      "160500643816367088\n",
      "259695496911122585\n",
      "420196140727489673\n",
      "679891637638612258\n",
      "1100087778366101931\n",
      "1779979416004714189\n",
      "2880067194370816120\n",
      "4660046610375530309\n",
      "7540113804746346429\n",
      "12200160415121876738\n",
      "19740274219868223167\n",
      "31940434634990099905\n",
      "51680708854858323072\n",
      "83621143489848422977\n",
      "135301852344706746049\n",
      "218922995834555169026\n",
      "354224848179261915075\n"
     ]
    }
   ],
   "source": [
    "digits = Int[]\n",
    "gen = FibGen(100)\n",
    "state = Base.start(gen)\n",
    "while !Base.done(gen, state)\n",
    "    state = Base.next(gen, state)\n",
    "    println(state[1])\n",
    "end"
   ]
  },
  {
   "cell_type": "code",
   "execution_count": 19,
   "metadata": {
    "collapsed": false
   },
   "outputs": [
    {
     "data": {
      "text/plain": [
       "65"
      ]
     },
     "execution_count": 19,
     "metadata": {},
     "output_type": "execute_result"
    }
   ],
   "source": [
    "count(d -> d > 20, digits)"
   ]
  },
  {
   "cell_type": "code",
   "execution_count": 18,
   "metadata": {
    "collapsed": false
   },
   "outputs": [
    {
     "data": {
      "text/plain": [
       "65"
      ]
     },
     "execution_count": 18,
     "metadata": {},
     "output_type": "execute_result"
    }
   ],
   "source": [
    "count(digits)do d\n",
    "    d > 20\n",
    "end"
   ]
  },
  {
   "cell_type": "code",
   "execution_count": 21,
   "metadata": {
    "collapsed": false
   },
   "outputs": [
    {
     "data": {
      "text/plain": [
       "100"
      ]
     },
     "execution_count": 21,
     "metadata": {},
     "output_type": "execute_result"
    }
   ],
   "source": [
    "length(digits)"
   ]
  },
  {
   "cell_type": "code",
   "execution_count": 1,
   "metadata": {
    "collapsed": false
   },
   "outputs": [
    {
     "data": {
      "text/plain": [
       "mysum (generic function with 1 method)"
      ]
     },
     "execution_count": 1,
     "metadata": {},
     "output_type": "execute_result"
    }
   ],
   "source": [
    "function mysum(args...)\n",
    "    length(args)\n",
    "end"
   ]
  },
  {
   "cell_type": "code",
   "execution_count": 7,
   "metadata": {
    "collapsed": false
   },
   "outputs": [
    {
     "data": {
      "text/plain": [
       "1"
      ]
     },
     "execution_count": 7,
     "metadata": {},
     "output_type": "execute_result"
    }
   ],
   "source": [
    "mysum((1, 2, 3, 4))"
   ]
  },
  {
   "cell_type": "code",
   "execution_count": 8,
   "metadata": {
    "collapsed": false
   },
   "outputs": [
    {
     "data": {
      "text/plain": [
       "4"
      ]
     },
     "execution_count": 8,
     "metadata": {},
     "output_type": "execute_result"
    }
   ],
   "source": [
    "mysum((1, 2, 3, 4)...)"
   ]
  },
  {
   "cell_type": "code",
   "execution_count": 9,
   "metadata": {
    "collapsed": false
   },
   "outputs": [
    {
     "data": {
      "text/plain": [
       "4-element Array{Any,1}:\n",
       " AbstractFloat       \n",
       " Integer             \n",
       " Irrational{sym}     \n",
       " Rational{T<:Integer}"
      ]
     },
     "execution_count": 9,
     "metadata": {},
     "output_type": "execute_result"
    }
   ],
   "source": [
    "subtypes(Real)"
   ]
  },
  {
   "cell_type": "code",
   "execution_count": 10,
   "metadata": {
    "collapsed": false
   },
   "outputs": [
    {
     "data": {
      "text/plain": [
       "Char"
      ]
     },
     "execution_count": 10,
     "metadata": {},
     "output_type": "execute_result"
    }
   ],
   "source": [
    "typeof('a')"
   ]
  },
  {
   "cell_type": "code",
   "execution_count": 11,
   "metadata": {
    "collapsed": false
   },
   "outputs": [
    {
     "name": "stderr",
     "output_type": "stream",
     "text": [
      "\n",
      "WARNING: deprecated syntax \"[a=>b, ...]\" at In[11]:1.\n",
      "Use \"Dict(a=>b, ...)\" instead.\n"
     ]
    },
    {
     "data": {
      "text/plain": [
       "Dict{Char,Int64} with 1 entry:\n",
       "  'a' => 1"
      ]
     },
     "execution_count": 11,
     "metadata": {},
     "output_type": "execute_result"
    }
   ],
   "source": [
    "['a' => 1]"
   ]
  },
  {
   "cell_type": "code",
   "execution_count": 13,
   "metadata": {
    "collapsed": false
   },
   "outputs": [
    {
     "data": {
      "text/plain": [
       "'b'"
      ]
     },
     "execution_count": 13,
     "metadata": {},
     "output_type": "execute_result"
    }
   ],
   "source": [
    "'a'+1"
   ]
  },
  {
   "cell_type": "code",
   "execution_count": 16,
   "metadata": {
    "collapsed": false
   },
   "outputs": [
    {
     "data": {
      "text/plain": [
       "Dict{Char,Int64} with 25 entries:\n",
       "  'd' => 3\n",
       "  'y' => 24\n",
       "  'b' => 1\n",
       "  'e' => 4\n",
       "  'r' => 17\n",
       "  'm' => 12\n",
       "  'k' => 10\n",
       "  'z' => 25\n",
       "  'f' => 5\n",
       "  'h' => 7\n",
       "  'w' => 22\n",
       "  'g' => 6\n",
       "  't' => 19\n",
       "  'n' => 13\n",
       "  'v' => 21\n",
       "  'o' => 14\n",
       "  'x' => 23\n",
       "  'u' => 20\n",
       "  'c' => 2\n",
       "  'p' => 15\n",
       "  'q' => 16\n",
       "  'l' => 11\n",
       "  'j' => 9\n",
       "  'i' => 8\n",
       "  's' => 18"
      ]
     },
     "execution_count": 16,
     "metadata": {},
     "output_type": "execute_result"
    }
   ],
   "source": [
    "d = Dict(['a'+i => i for i in range(1, 25)])"
   ]
  },
  {
   "cell_type": "code",
   "execution_count": 22,
   "metadata": {
    "collapsed": false
   },
   "outputs": [
    {
     "name": "stdout",
     "output_type": "stream",
     "text": [
      "'d'=>3 'y'=>24 'b'=>1 'e'=>4 'r'=>17 'm'=>12 'k'=>10 'z'=>25 'f'=>5 'h'=>7 'w'=>22 'g'=>6 't'=>19 'n'=>13 'v'=>21 'o'=>14 'x'=>23 'u'=>20 'c'=>2 'p'=>15 'q'=>16 'l'=>11 'j'=>9 'i'=>8 's'=>18 "
     ]
    }
   ],
   "source": [
    "for k in d\n",
    "    type\n",
    "    print(k, \" \")\n",
    "end"
   ]
  },
  {
   "cell_type": "code",
   "execution_count": 26,
   "metadata": {
    "collapsed": false
   },
   "outputs": [
    {
     "data": {
      "text/plain": [
       "23"
      ]
     },
     "execution_count": 26,
     "metadata": {},
     "output_type": "execute_result"
    }
   ],
   "source": [
    "last([1,23])"
   ]
  },
  {
   "cell_type": "code",
   "execution_count": 30,
   "metadata": {
    "collapsed": false
   },
   "outputs": [
    {
     "data": {
      "text/plain": [
       "9"
      ]
     },
     "execution_count": 30,
     "metadata": {},
     "output_type": "execute_result"
    }
   ],
   "source": [
    "first(collect([9:-1:0]))"
   ]
  },
  {
   "cell_type": "markdown",
   "metadata": {},
   "source": [
    "man(first)"
   ]
  },
  {
   "cell_type": "code",
   "execution_count": 32,
   "metadata": {
    "collapsed": false
   },
   "outputs": [
    {
     "name": "stdout",
     "output_type": "stream",
     "text": [
      "search: "
     ]
    },
    {
     "data": {
      "text/latex": [
       "\\begin{verbatim}\n",
       "..  first(coll)\n",
       "\n",
       "Get the first element of an iterable collection. Returns the start point of a :obj:`Range`\n",
       "even if it is empty.\n",
       "\\end{verbatim}\n"
      ],
      "text/markdown": [
       "```rst\n",
       "..  first(coll)\n",
       "\n",
       "Get the first element of an iterable collection. Returns the start point of a :obj:`Range`\n",
       "even if it is empty.\n",
       "```\n"
      ],
      "text/plain": [
       "```rst\n",
       "..  first(coll)\n",
       "\n",
       "Get the first element of an iterable collection. Returns the start point of a :obj:`Range`\n",
       "even if it is empty.\n",
       "```\n"
      ]
     },
     "execution_count": 32,
     "metadata": {},
     "output_type": "execute_result"
    },
    {
     "name": "stdout",
     "output_type": "stream",
     "text": [
      "first ucfirst lcfirst findfirst searchsortedfirst\n",
      "\n"
     ]
    }
   ],
   "source": [
    "?first"
   ]
  },
  {
   "cell_type": "code",
   "execution_count": 33,
   "metadata": {
    "collapsed": false
   },
   "outputs": [
    {
     "name": "stdout",
     "output_type": "stream",
     "text": [
      "search: "
     ]
    },
    {
     "data": {
      "text/latex": [
       "\\begin{verbatim}\n",
       "..  last(coll)\n",
       "\n",
       "Get the last element of an ordered collection, if it can be computed in O(1) time.\n",
       "This is accomplished by calling :func:`endof` to get the last index.\n",
       "Returns the end point of a :obj:`Range` even if it is empty.\n",
       "\\end{verbatim}\n"
      ],
      "text/markdown": [
       "```rst\n",
       "..  last(coll)\n",
       "\n",
       "Get the last element of an ordered collection, if it can be computed in O(1) time.\n",
       "This is accomplished by calling :func:`endof` to get the last index.\n",
       "Returns the end point of a :obj:`Range` even if it is empty.\n",
       "```\n"
      ],
      "text/plain": [
       "```rst\n",
       "..  last(coll)\n",
       "\n",
       "Get the last element of an ordered collection, if it can be computed in O(1) time.\n",
       "This is accomplished by calling :func:`endof` to get the last index.\n",
       "Returns the end point of a :obj:`Range` even if it is empty.\n",
       "```\n"
      ]
     },
     "execution_count": 33,
     "metadata": {},
     "output_type": "execute_result"
    },
    {
     "name": "stdout",
     "output_type": "stream",
     "text": [
      "last findlast blas_set_num_threads searchsortedlast LambdaStaticData\n",
      "\n"
     ]
    }
   ],
   "source": [
    "?last"
   ]
  },
  {
   "cell_type": "code",
   "execution_count": 35,
   "metadata": {
    "collapsed": false
   },
   "outputs": [
    {
     "data": {
      "text/latex": [
       "\\begin{verbatim}\n",
       "+(x, y...)\n",
       "\\end{verbatim}\n",
       "Addition operator. \\texttt{x+y+z+...} calls this function with all arguments, i.e. \\texttt{+(x, y, z, ...)}.\n"
      ],
      "text/markdown": [
       "```\n",
       "+(x, y...)\n",
       "```\n",
       "\n",
       "Addition operator. `x+y+z+...` calls this function with all arguments, i.e. `+(x, y, z, ...)`.\n"
      ],
      "text/plain": [
       "```\n",
       "+(x, y...)\n",
       "```\n",
       "\n",
       "Addition operator. `x+y+z+...` calls this function with all arguments, i.e. `+(x, y, z, ...)`.\n"
      ]
     },
     "execution_count": 35,
     "metadata": {},
     "output_type": "execute_result"
    }
   ],
   "source": [
    "@doc +"
   ]
  },
  {
   "cell_type": "code",
   "execution_count": 37,
   "metadata": {
    "collapsed": false
   },
   "outputs": [
    {
     "data": {
      "text/plain": [
       "Set(ASCIIString[\"Diako\",\"Tormod\",\"Miro\"])"
      ]
     },
     "execution_count": 37,
     "metadata": {},
     "output_type": "execute_result"
    }
   ],
   "source": [
    "room = Set{ASCIIString}()\n",
    "push!(room, \"Diako\")\n",
    "push!(room, \"Tormod\")\n",
    "push!(room, \"Miro\")"
   ]
  },
  {
   "cell_type": "code",
   "execution_count": 39,
   "metadata": {
    "collapsed": false
   },
   "outputs": [
    {
     "data": {
      "text/plain": [
       "true"
      ]
     },
     "execution_count": 39,
     "metadata": {},
     "output_type": "execute_result"
    }
   ],
   "source": [
    "in(\"Miro\", room)"
   ]
  },
  {
   "cell_type": "code",
   "execution_count": 40,
   "metadata": {
    "collapsed": false
   },
   "outputs": [
    {
     "data": {
      "text/plain": [
       "\"Alpha = 10\""
      ]
     },
     "execution_count": 40,
     "metadata": {},
     "output_type": "execute_result"
    }
   ],
   "source": [
    "x = 7\n",
    "\"\\Alpha = $(x+3)\""
   ]
  },
  {
   "cell_type": "code",
   "execution_count": 33,
   "metadata": {
    "collapsed": false
   },
   "outputs": [
    {
     "data": {
      "text/plain": [
       "3"
      ]
     },
     "execution_count": 33,
     "metadata": {},
     "output_type": "execute_result"
    }
   ],
   "source": [
    "γ=3"
   ]
  },
  {
   "cell_type": "code",
   "execution_count": 44,
   "metadata": {
    "collapsed": false
   },
   "outputs": [
    {
     "data": {
      "text/plain": [
       "\"4\""
      ]
     },
     "execution_count": 44,
     "metadata": {},
     "output_type": "execute_result"
    }
   ],
   "source": [
    "string(α)\n",
    "str"
   ]
  },
  {
   "cell_type": "code",
   "execution_count": 27,
   "metadata": {
    "collapsed": false
   },
   "outputs": [],
   "source": [
    "f = open(\"square.msh\")\n",
    "\n",
    "tags = (\"\\$MeshFormat\", \"\\$Nodes\", \"\\$Elements\")\n",
    "\n",
    "# Here we build 3xnvertices array holding coordinates of mesh vertices\n",
    "vertices = []\n",
    "# These are maps cell index -> vertex index, facet index -> vertex index\n",
    "cells = Dict{Int64, Array{Int64}}()\n",
    "facets = Dict{Int64, Array{Int64}}()\n",
    "\n",
    "used_tag = \"\"\n",
    "for ln in eachline(f)\n",
    "    line = split(strip(ln), \" \")\n",
    "    \n",
    "    # This is a tag. Open tags get to set used_tag, EndTag is just skipped\n",
    "    if startswith(first(line), \"\\$\")\n",
    "        tag = first(line)\n",
    "        if in(tag, tags)\n",
    "            used_tag = tag\n",
    "        end\n",
    "        continue\n",
    "    end\n",
    "    \n",
    "    # We don't do anatyhing with the line that follows line with meshformat\n",
    "    if used_tag == \"\\$MeshFormat\"\n",
    "        continue\n",
    "    end\n",
    "\n",
    "    # Id Nodes tag is used\n",
    "    if used_tag == \"\\$Nodes\"\n",
    "        # The array for vertices is allocated and then we move on\n",
    "        if isempty(vertices)\n",
    "            nvertices = int(first(line))\n",
    "            vertices = Array{Float64}(3, nvertices)\n",
    "            continue\n",
    "        end\n",
    "        # The remining line fill in the coordinates\n",
    "        ivertex = int(first(line))\n",
    "        coords = float(line[2:end])\n",
    "        vertices[:, ivertex] = coords\n",
    "    end\n",
    "    \n",
    "    # Lines following Element\n",
    "    if used_tag == \"\\$Elements\"\n",
    "        # Are skipped with the element is point or number of element info\n",
    "        if length(line) == 1 || int(line[2]) == 15\n",
    "            continue\n",
    "        end\n",
    "        \n",
    "        # The rest builds facets or cells\n",
    "        row = map(int, line)\n",
    "        index, celltype, tag = row[1:3]\n",
    "        vertices = row[3+tag+1:end]\n",
    "        \n",
    "        if celltype == 1\n",
    "            facets[index] = vertices\n",
    "        elseif celltype == 3\n",
    "            cells[index] = vertices\n",
    "        end\n",
    "\n",
    "    end\n",
    "        \n",
    "  \n",
    "end\n",
    "\n",
    "close(f)"
   ]
  },
  {
   "cell_type": "code",
   "execution_count": 28,
   "metadata": {
    "collapsed": false
   },
   "outputs": [
    {
     "data": {
      "text/plain": [
       "Dict{Int64,Array{Int64,N}} with 16 entries:\n",
       "  32 => [24,21,25,17]\n",
       "  21 => [18,5,6,22]\n",
       "  26 => [18,25,15,16]\n",
       "  25 => [19,22,6,7]\n",
       "  35 => [4,11,20,10]\n",
       "  34 => [3,8,19,7]\n",
       "  29 => [22,17,25,18]\n",
       "  22 => [19,8,9,23]\n",
       "  24 => [21,14,15,25]\n",
       "  28 => [21,24,12,13]\n",
       "  23 => [20,11,12,24]\n",
       "  31 => [23,17,22,19]\n",
       "  27 => [20,23,9,10]\n",
       "  36 => [1,14,21,13]\n",
       "  33 => [2,5,18,16]\n",
       "  30 => [24,17,23,20]"
      ]
     },
     "execution_count": 28,
     "metadata": {},
     "output_type": "execute_result"
    }
   ],
   "source": [
    "cells"
   ]
  },
  {
   "cell_type": "code",
   "execution_count": 29,
   "metadata": {
    "collapsed": false
   },
   "outputs": [
    {
     "name": "stdout",
     "output_type": "stream",
     "text": [
      "16 -> [13,1]\n",
      "\t 13 has Set{Int64}() receives 16\n",
      "\t 1 has Set{Int64}() receives 16\n",
      "11 -> [9,10]\n",
      "\t 9 has Set{Int64}() receives 11\n",
      "\t 10 has Set{Int64}() receives 11\n",
      "7 -> [6,7]\n",
      "\t 6 has Set{Int64}() receives 7\n",
      "\t 7 has Set{Int64}() receives 7\n",
      "9 -> [3,8]\n",
      "\t 3 has Set{Int64}() receives 9\n",
      "\t 8 has Set{Int64}() receives 9\n",
      "10 -> [8,9]\n",
      "\t 8 has Set([9]) receives 10\n",
      "\t 9 has Set([11]) receives 10\n",
      "19 -> [15,16]\n",
      "\t 15 has Set{Int64}() receives 19\n",
      "\t 16 has Set{Int64}() receives 19\n",
      "17 -> [1,14]\n",
      "\t 1 has Set([16]) receives 17\n",
      "\t 14 has Set{Int64}() receives 17\n",
      "8 -> [7,3]\n",
      "\t 7 has Set([7]) receives 8\n",
      "\t 3 has Set([9]) receives 8\n",
      "6 -> [5,6]\n",
      "\t 5 has Set{Int64}() receives 6\n",
      "\t 6 has Set([7]) receives 6\n",
      "5 -> [2,5]\n",
      "\t 2 has Set{Int64}() receives 5\n",
      "\t 5 has Set([6]) receives 5\n",
      "20 -> [16,2]\n",
      "\t 16 has Set([19]) receives 20\n",
      "\t 2 has Set([5]) receives 20\n",
      "13 -> [4,11]\n",
      "\t 4 has Set{Int64}() receives 13\n",
      "\t 11 has Set{Int64}() receives 13\n",
      "14 -> [11,12]\n",
      "\t 11 has Set([13]) receives 14\n",
      "\t 12 has Set{Int64}() receives 14\n",
      "15 -> [12,13]\n",
      "\t 12 has Set([14]) receives 15\n",
      "\t 13 has Set([16]) receives 15\n",
      "12 -> [10,4]\n",
      "\t 10 has Set([11]) receives 12\n",
      "\t 4 has Set([13]) receives 12\n",
      "18 -> [14,15]\n",
      "\t 14 has Set([17]) receives 18\n",
      "\t 15 has Set([19]) receives 18\n"
     ]
    }
   ],
   "source": [
    "# Build vertex index -> facet index map. We are transposing dictionary again!\n",
    "v2f = Dict{Int64, Set{Int64}}()\n",
    "for (fac, vertices) in facets\n",
    "    println(facet, \" -> \", vertices)\n",
    "    for vertex in vertices\n",
    "        values = get(v2f, vertex, Set{Int64}())\n",
    "        println(\"\\t $(vertex) has $(values) receives $(facet)\")\n",
    "        push!(values, facet)\n",
    "        v2f[vertex] = values\n",
    "    end\n",
    "end"
   ]
  },
  {
   "cell_type": "code",
   "execution_count": 30,
   "metadata": {
    "collapsed": false
   },
   "outputs": [],
   "source": [
    "# Build vertex index -> cell index map\n",
    "v2c = Dict{Int64, Set{Int64}}()\n",
    "for (cell, vertices) in cells\n",
    "    for vertex in vertices\n",
    "        values = get(v2c, vertex, Set{Int64}())\n",
    "        push!(values, cell)\n",
    "        v2c[vertex] = values\n",
    "    end\n",
    "end"
   ]
  },
  {
   "cell_type": "code",
   "execution_count": 32,
   "metadata": {
    "collapsed": false
   },
   "outputs": [
    {
     "data": {
      "text/plain": [
       "Dict{Int64,Array{Int64,N}} with 16 entries:\n",
       "  16 => [13,1]\n",
       "  11 => [9,10]\n",
       "  7  => [6,7]\n",
       "  9  => [3,8]\n",
       "  10 => [8,9]\n",
       "  19 => [15,16]\n",
       "  17 => [1,14]\n",
       "  8  => [7,3]\n",
       "  6  => [5,6]\n",
       "  5  => [2,5]\n",
       "  20 => [16,2]\n",
       "  13 => [4,11]\n",
       "  14 => [11,12]\n",
       "  15 => [12,13]\n",
       "  12 => [10,4]\n",
       "  18 => [14,15]"
      ]
     },
     "execution_count": 32,
     "metadata": {},
     "output_type": "execute_result"
    }
   ],
   "source": [
    "facets"
   ]
  },
  {
   "cell_type": "raw",
   "metadata": {},
   "source": [
    "Plot so that we know that before transpose it is okay\n",
    "Then transpose\n",
    "Finally facet cell connectivity\n",
    "----------\n",
    "Make more general = dict of dicts\n",
    "checks that file is okay\n",
    "abstractio  of mesh, mesh.geom, mesh.topol\n",
    "ordering ver in cell - form loop?"
   ]
  },
  {
   "cell_type": "code",
   "execution_count": 1,
   "metadata": {
    "collapsed": false
   },
   "outputs": [
    {
     "data": {
      "text/plain": [
       "mysin (generic function with 1 method)"
      ]
     },
     "execution_count": 1,
     "metadata": {},
     "output_type": "execute_result"
    }
   ],
   "source": [
    "mysin(x) = ccall((:sin,\"libm\"), Cdouble, (Cdouble,), x)"
   ]
  },
  {
   "cell_type": "code",
   "execution_count": 3,
   "metadata": {
    "collapsed": false
   },
   "outputs": [
    {
     "data": {
      "text/plain": [
       "1.0"
      ]
     },
     "execution_count": 3,
     "metadata": {},
     "output_type": "execute_result"
    }
   ],
   "source": [
    "mysin(0.5*pi)"
   ]
  },
  {
   "cell_type": "code",
   "execution_count": 4,
   "metadata": {
    "collapsed": false
   },
   "outputs": [
    {
     "data": {
      "text/plain": [
       "mysin (generic function with 4 methods)"
      ]
     },
     "execution_count": 4,
     "metadata": {},
     "output_type": "execute_result"
    }
   ],
   "source": [
    "@vectorize_1arg Real mysin"
   ]
  },
  {
   "cell_type": "code",
   "execution_count": 10,
   "metadata": {
    "collapsed": false
   },
   "outputs": [
    {
     "name": "stderr",
     "output_type": "stream",
     "text": [
      "WARNING: Returned code may not match what actually runs.\n"
     ]
    },
    {
     "name": "stdout",
     "output_type": "stream",
     "text": [
      "\t.section\t__TEXT,__text,regular,pure_instructions\n",
      "Filename: operators.jl\n",
      "Source line: 380\n",
      "\tpushq\t%rbp\n",
      "\tmovq\t%rsp, %rbp\n",
      "Source line: 380\n",
      "\tpushq\t%r15\n",
      "\tpushq\t%r14\n",
      "\tpushq\t%r13\n",
      "\tpushq\t%r12\n",
      "\tpushq\t%rbx\n",
      "\tsubq\t$168, %rsp\n",
      "\tmovq\t$30, -176(%rbp)\n",
      "\tmovabsq\t$jl_pgcstack, %rax\n",
      "\tmovq\t(%rax), %rcx\n",
      "\tmovq\t%rcx, -168(%rbp)\n",
      "\tleaq\t-176(%rbp), %rcx\n",
      "\tmovq\t%rcx, (%rax)\n",
      "\tmovq\t$0, -160(%rbp)\n",
      "\tmovq\t$0, -152(%rbp)\n",
      "\tmovq\t$0, -144(%rbp)\n",
      "\tmovq\t$0, -136(%rbp)\n",
      "\txorps\t%xmm0, %xmm0\n",
      "\tcmpl\t$1, %edx\n",
      "\tmovq\t$0, -128(%rbp)\n",
      "\tmovq\t$0, -120(%rbp)\n",
      "\tmovq\t$0, -112(%rbp)\n",
      "\tmovq\t$0, -104(%rbp)\n",
      "\tmovq\t$0, -96(%rbp)\n",
      "\tmovq\t$0, -88(%rbp)\n",
      "\tmovq\t$0, -80(%rbp)\n",
      "\tmovq\t$0, -72(%rbp)\n",
      "\tmovq\t$0, -64(%rbp)\n",
      "\tmovups\t%xmm0, -56(%rbp)\n",
      "\tjne\tL1351\n",
      "\tleaq\t-56(%rbp), %rax\n",
      "\tleaq\t-64(%rbp), %r13\n",
      "\tmovq\t(%rsi), %rcx\n",
      "\tmovq\t%rcx, -192(%rbp)\n",
      "\tmovabsq\t$4583841920, %r14       ## imm = 0x11137E080\n",
      "Source line: 380\n",
      "\tmovq\t%r14, -64(%rbp)\n",
      "\tmovq\t%rcx, -56(%rbp)\n",
      "\tmovabsq\t$jl_apply_generic, %r15\n",
      "\tmovabsq\t$4606380432, %rdi       ## imm = 0x1128FC990\n",
      "\tmovq\t%rax, %rsi\n",
      "\tmovl\t$1, %edx\n",
      "\tcallq\t*%r15\n",
      "\tmovq\t%rax, -56(%rbp)\n",
      "\tmovabsq\t$4605216688, %rdi       ## imm = 0x1127E07B0\n",
      "\tmovq\t%r13, %rsi\n",
      "\tmovl\t$2, %edx\n",
      "\tcallq\t*%r15\n",
      "\tmovq\t%rax, %rbx\n",
      "\tmovq\t%rbx, -200(%rbp)\n",
      "\tmovq\t%rbx, -120(%rbp)\n",
      "\tmovq\t%rbx, -64(%rbp)\n",
      "\tmovabsq\t$4606380432, %rdi       ## imm = 0x1128FC990\n",
      "\tmovq\t%r13, %rsi\n",
      "\tmovl\t$1, %edx\n",
      "\tcallq\t*%r15\n",
      "\tmovq\t%rax, %r12\n",
      "\tmovq\t%r12, -208(%rbp)\n",
      "\tmovabsq\t$4601515992, %rax       ## imm = 0x112458FD8\n",
      "\tmovq\t%r12, -112(%rbp)\n",
      "\tmovq\t(%rax), %rax\n",
      "\tmovq\t%rax, -64(%rbp)\n",
      "\tmovabsq\t$4583719120, %rax       ## imm = 0x1113600D0\n",
      "\tmovq\t%rax, -56(%rbp)\n",
      "\tmovq\t%r12, -48(%rbp)\n",
      "\tmovabsq\t$4612143344, %rdi       ## imm = 0x112E7B8F0\n",
      "\tmovq\t%r13, %rsi\n",
      "\tmovl\t$3, %edx\n",
      "\tcallq\t*%r15\n",
      "\tmovq\t%rax, -184(%rbp)\n",
      "\tmovq\t%rax, -104(%rbp)\n",
      "\tmovq\t%r14, -160(%rbp)\n",
      "\tmovq\t%rbx, -64(%rbp)\n",
      "\tmovabsq\t$4609251952, %rdi       ## imm = 0x112BB9A70\n",
      "\tmovq\t%r13, %rsi\n",
      "\tmovl\t$1, %edx\n",
      "\tcallq\t*%r15\n",
      "\tmovabsq\t$4583841872, %rcx       ## imm = 0x11137E050\n",
      "\tmovq\t%rax, -152(%rbp)\n",
      "\tmovq\t%rcx, -144(%rbp)\n",
      "\tmovq\t%rcx, -64(%rbp)\n",
      "\tmovq\t%r12, -56(%rbp)\n",
      "\tmovq\t%r13, %r12\n",
      "\tmovabsq\t$4606197328, %rdi       ## imm = 0x1128CFE50\n",
      "\tmovq\t%r12, %rsi\n",
      "\tmovl\t$2, %edx\n",
      "\tcallq\t*%r15\n",
      "\tmovq\t-8(%rax), %rcx\n",
      "\tshrq\t$4, %rcx\n",
      "\tcmpq\t$286482529, %rcx        ## imm = 0x11136061\n",
      "\tjne\tL1483\n",
      "\tmovabsq\t$jl_false, %rcx\n",
      "\tcmpq\t(%rcx), %rax\n",
      "\tje\tL1306\n",
      "\tmovabsq\t$4583841920, %r14       ## imm = 0x11137E080\n",
      "\tmovabsq\t$jl_apply_generic, %r15\n",
      "L553:\tmovq\t-144(%rbp), %rax\n",
      "\ttestq\t%rax, %rax\n",
      "\tje\tL1461\n",
      "\tmovq\t%rax, -64(%rbp)\n",
      "\tmovq\t%r14, -56(%rbp)\n",
      "\tmovabsq\t$4590868208, %rdi       ## imm = 0x111A316F0\n",
      "\tmovq\t%r12, %rsi\n",
      "\tmovl\t$2, %edx\n",
      "\tcallq\t*%r15\n",
      "\tmovq\t%rax, -144(%rbp)\n",
      "\tmovq\t-200(%rbp), %rax\n",
      "\tmovq\t%rax, -64(%rbp)\n",
      "\tmovq\t-152(%rbp), %rax\n",
      "\ttestq\t%rax, %rax\n",
      "\tje\tL1373\n",
      "\tmovq\t%rax, -56(%rbp)\n",
      "\tmovabsq\t$4617938256, %rdi       ## imm = 0x113402550\n",
      "\tmovq\t%r12, %rsi\n",
      "\tmovl\t$2, %edx\n",
      "\tcallq\t*%r15\n",
      "\tmovq\t%rax, %rbx\n",
      "\tmovq\t%rbx, -96(%rbp)\n",
      "\tmovq\t%rbx, -64(%rbp)\n",
      "\tmovabsq\t$4609251952, %rdi       ## imm = 0x112BB9A70\n",
      "\tmovq\t%r12, %rsi\n",
      "\tmovl\t$1, %edx\n",
      "\tcallq\t*%r15\n",
      "\tmovq\t%rax, -128(%rbp)\n",
      "\tmovq\t%rbx, -64(%rbp)\n",
      "\tmovq\t%r14, -56(%rbp)\n",
      "\tmovq\t-128(%rbp), %rax\n",
      "\ttestq\t%rax, %rax\n",
      "\tje\tL1395\n",
      "\tmovq\t%rax, -48(%rbp)\n",
      "\tmovabsq\t$4620235952, %rdi       ## imm = 0x1136334B0\n",
      "\tmovq\t%r12, %rsi\n",
      "\tmovl\t$3, %edx\n",
      "\tcallq\t*%r15\n",
      "\tmovq\t%r12, %r13\n",
      "\tmovq\t%rax, %r12\n",
      "\tmovq\t%r12, -88(%rbp)\n",
      "\tmovq\t%r12, -64(%rbp)\n",
      "\tmovq\t%r14, -56(%rbp)\n",
      "\txorl\t%edi, %edi\n",
      "\tmovq\t%r13, %rsi\n",
      "\tmovl\t$2, %edx\n",
      "\tmovabsq\t$jl_f_get_field, %rax\n",
      "\tcallq\t*%rax\n",
      "\tmovq\t%rax, -136(%rbp)\n",
      "\tmovq\t%r12, -64(%rbp)\n",
      "\tmovabsq\t$jl_f_get_field, %r12\n",
      "\tmovabsq\t$4583841968, %rax       ## imm = 0x11137E0B0\n",
      "\tmovq\t%rax, -56(%rbp)\n",
      "\txorl\t%edi, %edi\n",
      "\tmovq\t%r13, %rsi\n",
      "\tmovl\t$2, %edx\n",
      "\tcallq\t*%r12\n",
      "\tmovabsq\t$4583841968, %rcx       ## imm = 0x11137E0B0\n",
      "\tmovq\t%rax, -128(%rbp)\n",
      "\tmovq\t%rbx, -64(%rbp)\n",
      "\tmovq\t%rcx, -56(%rbp)\n",
      "\tmovq\t-128(%rbp), %rax\n",
      "\ttestq\t%rax, %rax\n",
      "\tje\tL1395\n",
      "\tmovq\t%rax, -48(%rbp)\n",
      "\tmovabsq\t$4620235952, %rdi       ## imm = 0x1136334B0\n",
      "\tmovq\t%r13, %rsi\n",
      "\tmovl\t$3, %edx\n",
      "\tmovabsq\t$jl_apply_generic, %r14\n",
      "\tmovabsq\t$4583841920, %r15       ## imm = 0x11137E080\n",
      "\tcallq\t*%r14\n",
      "\tmovq\t%rax, %rbx\n",
      "\tmovq\t%rbx, -80(%rbp)\n",
      "\tmovq\t%rbx, -64(%rbp)\n",
      "\tmovq\t%r15, -56(%rbp)\n",
      "\txorl\t%edi, %edi\n",
      "\tmovq\t%r13, %rsi\n",
      "\tmovl\t$2, %edx\n",
      "\tcallq\t*%r12\n",
      "\tmovq\t%rax, -152(%rbp)\n",
      "\tmovq\t%rbx, -64(%rbp)\n",
      "\tmovabsq\t$4583841968, %rax       ## imm = 0x11137E0B0\n",
      "\tmovq\t%rax, -56(%rbp)\n",
      "\txorl\t%edi, %edi\n",
      "\tmovq\t%r13, %rsi\n",
      "\tmovl\t$2, %edx\n",
      "\tcallq\t*%r12\n",
      "\tmovq\t%rax, -128(%rbp)\n",
      "\tmovq\t-192(%rbp), %rax\n",
      "\tmovq\t%rax, -64(%rbp)\n",
      "\tmovq\t-136(%rbp), %rax\n",
      "\ttestq\t%rax, %rax\n",
      "\tje\tL1417\n",
      "\tmovq\t%rax, -56(%rbp)\n",
      "\tmovabsq\t$4608538256, %rdi       ## imm = 0x112B0B690\n",
      "\tmovq\t%r13, %rsi\n",
      "\tmovl\t$2, %edx\n",
      "\tcallq\t*%r14\n",
      "\tmovq\t%rax, -64(%rbp)\n",
      "\tmovabsq\t$4659246128, %rdi       ## imm = 0x115B67430\n",
      "\tmovq\t%r13, %rsi\n",
      "\tmovl\t$1, %edx\n",
      "\tcallq\t*%r14\n",
      "\tmovq\t%rax, -72(%rbp)\n",
      "\tmovq\t-184(%rbp), %rcx\n",
      "\tmovq\t%rcx, -64(%rbp)\n",
      "\tmovq\t%rax, -56(%rbp)\n",
      "\tmovq\t-160(%rbp), %rax\n",
      "\ttestq\t%rax, %rax\n",
      "\tmovabsq\t$jl_apply_generic, %r15\n",
      "\tmovq\t%r13, %r12\n",
      "\tje\tL1439\n",
      "\tmovq\t%rax, -48(%rbp)\n",
      "\tmovabsq\t$4611385712, %rdi       ## imm = 0x112DC2970\n",
      "\tmovq\t%r12, %rsi\n",
      "\tmovl\t$3, %edx\n",
      "\tcallq\t*%r15\n",
      "\tmovq\t-160(%rbp), %rax\n",
      "\ttestq\t%rax, %rax\n",
      "\tje\tL1439\n",
      "\tmovq\t%rax, -64(%rbp)\n",
      "\tmovabsq\t$4583841920, %r14       ## imm = 0x11137E080\n",
      "\tmovq\t%r14, -56(%rbp)\n",
      "\tmovabsq\t$4590868208, %rdi       ## imm = 0x111A316F0\n",
      "\tmovq\t%r12, %rsi\n",
      "\tmovl\t$2, %edx\n",
      "\tcallq\t*%r15\n",
      "\tmovq\t%rax, -160(%rbp)\n",
      "\tmovq\t-144(%rbp), %rax\n",
      "\ttestq\t%rax, %rax\n",
      "\tje\tL1461\n",
      "\tmovq\t%rax, -64(%rbp)\n",
      "\tmovq\t-208(%rbp), %rax\n",
      "\tmovq\t%rax, -56(%rbp)\n",
      "\tmovabsq\t$4606197328, %rdi       ## imm = 0x1128CFE50\n",
      "\tmovq\t%r12, %rsi\n",
      "\tmovl\t$2, %edx\n",
      "\tcallq\t*%r15\n",
      "\tmovq\t%rax, -64(%rbp)\n",
      "\tmovabsq\t$4616393680, %rdi       ## imm = 0x1132893D0\n",
      "\tmovq\t%r12, %rsi\n",
      "\tmovl\t$1, %edx\n",
      "\tcallq\t*%r15\n",
      "\tmovq\t-8(%rax), %rcx\n",
      "\tshrq\t$4, %rcx\n",
      "\tcmpq\t$286482529, %rcx        ## imm = 0x11136061\n",
      "\tjne\tL1483\n",
      "\tmovabsq\t$jl_false, %rcx\n",
      "\tcmpq\t(%rcx), %rax\n",
      "\tje\tL553\n",
      "L1306:\tmovq\t-168(%rbp), %rax\n",
      "\tmovabsq\t$jl_pgcstack, %rcx\n",
      "\tmovq\t%rax, (%rcx)\n",
      "\tmovq\t-184(%rbp), %rax\n",
      "\taddq\t$168, %rsp\n",
      "\tpopq\t%rbx\n",
      "\tpopq\t%r12\n",
      "\tpopq\t%r13\n",
      "\tpopq\t%r14\n",
      "\tpopq\t%r15\n",
      "\tpopq\t%rbp\n",
      "\tret\n",
      "Source line: 380\n",
      "L1351:\tmovabsq\t$jl_error, %rax\n",
      "\tmovabsq\t$13350511008, %rdi      ## imm = 0x31BC0A1A0\n",
      "\tcallq\t*%rax\n",
      "Source line: 380\n",
      "L1373:\tmovabsq\t$jl_undefined_var_error, %rax\n",
      "\tmovabsq\t$13190844528, %rdi      ## imm = 0x3123C5070\n",
      "\tcallq\t*%rax\n",
      "L1395:\tmovabsq\t$jl_undefined_var_error, %rax\n",
      "\tmovabsq\t$13190859112, %rdi      ## imm = 0x3123C8968\n",
      "\tcallq\t*%rax\n",
      "L1417:\tmovabsq\t$jl_undefined_var_error, %rax\n",
      "\tmovabsq\t$13190937376, %rdi      ## imm = 0x3123DBB20\n",
      "\tcallq\t*%rax\n",
      "L1439:\tmovabsq\t$jl_undefined_var_error, %rax\n",
      "\tmovabsq\t$13190892360, %rdi      ## imm = 0x3123D0B48\n",
      "\tcallq\t*%rax\n",
      "L1461:\tmovabsq\t$jl_undefined_var_error, %rax\n",
      "\tmovabsq\t$13190866384, %rdi      ## imm = 0x3123CA5D0\n",
      "\tcallq\t*%rax\n",
      "L1483:\tmovabsq\t$jl_type_error_rt_line, %rbx\n",
      "\tmovabsq\t$13350511928, %rdi      ## imm = 0x31BC0A538\n",
      "\tmovabsq\t$13350511136, %rsi      ## imm = 0x31BC0A220\n",
      "\tmovabsq\t$4583720464, %rdx       ## imm = 0x111360610\n",
      "\tmovq\t%rax, %rcx\n",
      "\tmovl\t$380, %r8d              ## imm = 0x17C\n",
      "\tcallq\t*%rbx\n"
     ]
    }
   ],
   "source": [
    "code_native(mysin, (Array{Float64}, ))"
   ]
  },
  {
   "cell_type": "code",
   "execution_count": 11,
   "metadata": {
    "collapsed": true
   },
   "outputs": [],
   "source": [
    "macro horner(x, c...)\n",
    "    ex = esc(c[end])\n",
    "    for i = length(c)-1:-1:1\n",
    "        ex = :($(esc(c[i])) + t * $ex)\n",
    "    end\n",
    "    return Expr(:block, :(t = $(esc(x))), ex)\n",
    "end"
   ]
  },
  {
   "cell_type": "code",
   "execution_count": 14,
   "metadata": {
    "collapsed": false
   },
   "outputs": [
    {
     "data": {
      "text/plain": [
       "3.2"
      ]
     },
     "execution_count": 14,
     "metadata": {},
     "output_type": "execute_result"
    }
   ],
   "source": [
    "@horner(0.4, 2, 3)"
   ]
  },
  {
   "cell_type": "code",
   "execution_count": 16,
   "metadata": {
    "collapsed": false
   },
   "outputs": [
    {
     "data": {
      "text/plain": [
       "quote  # In[16], line 1:\n",
       "    begin \n",
       "        #57#t = 0.4\n",
       "        2 + #57#t * (3 + #57#t * 5)\n",
       "    end\n",
       "end"
      ]
     },
     "execution_count": 16,
     "metadata": {},
     "output_type": "execute_result"
    }
   ],
   "source": [
    "macroexpand(quote @horner(0.4, 2, 3, 5) end)"
   ]
  },
  {
   "cell_type": "code",
   "execution_count": 17,
   "metadata": {
    "collapsed": false
   },
   "outputs": [
    {
     "data": {
      "text/plain": [
       "0.5f0"
      ]
     },
     "execution_count": 17,
     "metadata": {},
     "output_type": "execute_result"
    }
   ],
   "source": [
    "0.5f0   # 10^0"
   ]
  },
  {
   "cell_type": "code",
   "execution_count": 18,
   "metadata": {
    "collapsed": false
   },
   "outputs": [
    {
     "data": {
      "text/plain": [
       "Float32"
      ]
     },
     "execution_count": 18,
     "metadata": {},
     "output_type": "execute_result"
    }
   ],
   "source": [
    "typeof(0.5f0)"
   ]
  },
  {
   "cell_type": "code",
   "execution_count": 23,
   "metadata": {
    "collapsed": false
   },
   "outputs": [
    {
     "data": {
      "text/plain": [
       "13.095996856689453"
      ]
     },
     "execution_count": 23,
     "metadata": {},
     "output_type": "execute_result"
    }
   ],
   "source": [
    "Float64(0.13095_99674_22f2)  # 10^2"
   ]
  },
  {
   "cell_type": "code",
   "execution_count": null,
   "metadata": {
    "collapsed": true
   },
   "outputs": [],
   "source": [
    "\n",
    "\n",
    "\n",
    "\n",
    "\n"
   ]
  }
 ],
 "metadata": {
  "kernelspec": {
   "display_name": "Julia 0.4.2",
   "language": "julia",
   "name": "julia-0.4"
  },
  "language_info": {
   "file_extension": ".jl",
   "mimetype": "application/julia",
   "name": "julia",
   "version": "0.4.2"
  }
 },
 "nbformat": 4,
 "nbformat_minor": 0
}
