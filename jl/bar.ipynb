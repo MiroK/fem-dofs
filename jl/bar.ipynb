{
 "cells": [
  {
   "cell_type": "code",
   "execution_count": 1,
   "metadata": {
    "collapsed": false
   },
   "outputs": [
    {
     "data": {
      "text/plain": [
       "legval (generic function with 2 methods)"
      ]
     },
     "execution_count": 1,
     "metadata": {},
     "output_type": "execute_result"
    }
   ],
   "source": [
    "\"\"\"\n",
    "Evaluate linear combination of Legendre polynomials L_k(x) given in point x from 1d interval.\n",
    "In short, f(x) = sum_k c_k L_k(x) is computed.\n",
    "\"\"\"\n",
    "function legval{T<:Real}(x::T, c::Vector{T})\n",
    "  if length(c) == 1\n",
    "     c0 = c[1]\n",
    "     c1 = 0.\n",
    "  elseif length(c) == 2\n",
    "      c0 = c[1]\n",
    "      c1 = c[2]\n",
    "  else\n",
    "    nd = length(c)\n",
    "    c0 = c[end-1]\n",
    "    c1 = c[end]\n",
    "\n",
    "    for i in range(2, nd-2)\n",
    "      tmp = c0\n",
    "      nd = nd - 1\n",
    "      c0 = c[end-i] - (c1*(nd - 1))/nd\n",
    "      c1 = tmp + (c1*x*(2*nd - 1))/nd\n",
    "    end  \n",
    "  end\n",
    "  return c0 + c1*x\n",
    "end\n",
    "\n",
    "\"\"\"\n",
    "Evaluate linear combination of Legendre polynomials L_k(x) given in points x from 1d interval.\n",
    "In short, f(x) = sum_k c_k L_k(x) is computed.\n",
    "\"\"\"\n",
    "function legval{T<:Real}(x::Vector{T}, c::Vector{T})\n",
    "    y = similar(x)\n",
    "    for (i, xi) in enumerate(x)\n",
    "        y[i] = legval(xi, c)\n",
    "    end\n",
    "    y\n",
    "end"
   ]
  },
  {
   "cell_type": "code",
   "execution_count": null,
   "metadata": {
    "collapsed": false
   },
   "outputs": [],
   "source": [
    "using PyCall\n",
    "\n",
    "x = collect(linspace(-1, 1, 100))\n",
    "@pyimport matplotlib.pyplot as plt\n",
    "\n",
    "fig = plt.figure()\n",
    "for i in 1:10\n",
    "    c = zeros(10)\n",
    "    c[i] = 1\n",
    "    plt.plot(x, legval(x, c))\n",
    "end\n",
    "\n",
    "plt.show()"
   ]
  },
  {
   "cell_type": "code",
   "execution_count": null,
   "metadata": {
    "collapsed": false
   },
   "outputs": [],
   "source": []
  },
  {
   "cell_type": "code",
   "execution_count": 53,
   "metadata": {
    "collapsed": false
   },
   "outputs": [
    {
     "data": {
      "text/plain": [
       "legval (generic function with 4 methods)"
      ]
     },
     "execution_count": 53,
     "metadata": {},
     "output_type": "execute_result"
    }
   ],
   "source": [
    "\"\"\"\n",
    "Evaluate linear combination of Legendre polynomials L_i(x)*L_j(y) given in point x from 2d.\n",
    "The polynomials are obtained as tensor product of 1d polynomial in x and y, i.e.\n",
    "P(x, y) = c[0, 0]*L_0(x)*L_0(x) + c[0, 1]*L_0(x)*L_1(y) ...\n",
    "\"\"\"\n",
    "function legval{T<:Real}(x::T, y::T, c::Matrix{T})\n",
    "    # First eval at x coord polynomials of x specified by columns in c\n",
    "    ncols = size(c, 2)\n",
    "    c_x = zeros(T, ncols)\n",
    "    for col in 1:ncols\n",
    "        c_x[col] = legval(x, c[:, col])\n",
    "    end\n",
    "    # Now eval at y with new coefs\n",
    "    legval(y, c_x)\n",
    "end\n",
    "\n",
    "\"\"\"\n",
    "Evaluate linear combination of Legendre polynomials L_i(x)*L_j(y) given in points x from 2d.\n",
    "The points area organized such that col1 is all x coordinates, ...\n",
    "The polynomials are obtained as tensor product of 1d polynomial in x and y, i.e.\n",
    "P(x, y) = c[0, 0]*L_0(x)*L_0(x) + c[0, 1]*L_0(x)*L_1(y) ...\n",
    "\"\"\"\n",
    "function legval{T<:Real}(x::Matrix{T}, c::Matrix{T})\n",
    "    nrows = size(x, 1)\n",
    "    y = zeros(T, nrows)\n",
    "    for i in 1:nrows\n",
    "        y[i] = legval(x[i, 1], x[i, 2], c)\n",
    "    end\n",
    "    y\n",
    "end"
   ]
  }
 ],
 "metadata": {
  "kernelspec": {
   "display_name": "Julia 0.4.2",
   "language": "julia",
   "name": "julia-0.4"
  },
  "language_info": {
   "file_extension": ".jl",
   "mimetype": "application/julia",
   "name": "julia",
   "version": "0.4.2"
  }
 },
 "nbformat": 4,
 "nbformat_minor": 0
}
